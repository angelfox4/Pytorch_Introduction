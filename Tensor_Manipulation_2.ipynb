{
  "nbformat": 4,
  "nbformat_minor": 0,
  "metadata": {
    "colab": {
      "name": "Tensor_Manipulation_2.ipynb",
      "provenance": [],
      "collapsed_sections": [],
      "authorship_tag": "ABX9TyOcyJQ5G2qbgB1o7/hODRxG",
      "include_colab_link": true
    },
    "kernelspec": {
      "name": "python3",
      "display_name": "Python 3"
    }
  },
  "cells": [
    {
      "cell_type": "markdown",
      "metadata": {
        "id": "view-in-github",
        "colab_type": "text"
      },
      "source": [
        "<a href=\"https://colab.research.google.com/github/angelfox4/Pytorch_Introduction/blob/main/Tensor_Manipulation_2.ipynb\" target=\"_parent\"><img src=\"https://colab.research.google.com/assets/colab-badge.svg\" alt=\"Open In Colab\"/></a>"
      ]
    },
    {
      "cell_type": "markdown",
      "metadata": {
        "id": "DnWGiGQfNWUZ"
      },
      "source": [
        "## 뷰(View)\r\n",
        "원소의 수를 유지하면서 텐서의 크기 변경\r\n",
        "->view는 기본적으로 변경 전과 변경 후의 테너 안의 원소의 개수가 유지되어야 한다.\r\n",
        "->파이토치의 view는 사이지ㅡ가 -1로 설정되면 다른 차원으로부터 해당 값을 유추한다."
      ]
    },
    {
      "cell_type": "code",
      "metadata": {
        "id": "zcml4oXQOx06"
      },
      "source": [
        "import numpy as np\r\n",
        "import torch"
      ],
      "execution_count": null,
      "outputs": []
    },
    {
      "cell_type": "code",
      "metadata": {
        "colab": {
          "base_uri": "https://localhost:8080/"
        },
        "id": "P0ECf0MNNXfd",
        "outputId": "0ef7bed4-a504-401f-d193-060636829df1"
      },
      "source": [
        "t=np.array([[[0,1,2],\r\n",
        "            [3,4,5]],\r\n",
        "           [[6,7,8],\r\n",
        "            [9,10,11]]])\r\n",
        "ft=torch.FloatTensor(t)\r\n",
        "print(ft)\r\n",
        "print(ft.shape) #|t|=(batch size, width, height) 또는 (batch size, length, dim)"
      ],
      "execution_count": null,
      "outputs": [
        {
          "output_type": "stream",
          "text": [
            "tensor([[[ 0.,  1.,  2.],\n",
            "         [ 3.,  4.,  5.]],\n",
            "\n",
            "        [[ 6.,  7.,  8.],\n",
            "         [ 9., 10., 11.]]])\n",
            "torch.Size([2, 2, 3])\n"
          ],
          "name": "stdout"
        }
      ]
    },
    {
      "cell_type": "markdown",
      "metadata": {
        "id": "jWeyUq2rNXiO"
      },
      "source": [
        "1) 3차원 텐서에서 2차원 텐서로 변경"
      ]
    },
    {
      "cell_type": "code",
      "metadata": {
        "colab": {
          "base_uri": "https://localhost:8080/"
        },
        "id": "iVc7i4JcNXk4",
        "outputId": "a64f3aa0-a92b-49a8-f4a7-9ebf08a95526"
      },
      "source": [
        "print(ft.view([-1,3])) #4*3의 텐서를 얻게 됨, 2차원으로 변경하면서 batch size를 없앰\r\n",
        "print(ft.view([-1,3]).shape)"
      ],
      "execution_count": null,
      "outputs": [
        {
          "output_type": "stream",
          "text": [
            "tensor([[ 0.,  1.,  2.],\n",
            "        [ 3.,  4.,  5.],\n",
            "        [ 6.,  7.,  8.],\n",
            "        [ 9., 10., 11.]])\n",
            "torch.Size([4, 3])\n"
          ],
          "name": "stdout"
        }
      ]
    },
    {
      "cell_type": "markdown",
      "metadata": {
        "id": "3hpHfERDNXnP"
      },
      "source": [
        "2)3차원 텐서의 크기 변경"
      ]
    },
    {
      "cell_type": "code",
      "metadata": {
        "colab": {
          "base_uri": "https://localhost:8080/"
        },
        "id": "sRIcoK-DNXrL",
        "outputId": "690915ff-3cfd-4daa-b3de-eaf413380f0e"
      },
      "source": [
        "print(ft.view([-1,1,3]))\r\n",
        "print(ft.view([-1,1,3]).shape)"
      ],
      "execution_count": null,
      "outputs": [
        {
          "output_type": "stream",
          "text": [
            "tensor([[[ 0.,  1.,  2.]],\n",
            "\n",
            "        [[ 3.,  4.,  5.]],\n",
            "\n",
            "        [[ 6.,  7.,  8.]],\n",
            "\n",
            "        [[ 9., 10., 11.]]])\n",
            "torch.Size([4, 1, 3])\n"
          ],
          "name": "stdout"
        }
      ]
    },
    {
      "cell_type": "markdown",
      "metadata": {
        "id": "3lt0BT8BNXxO"
      },
      "source": [
        "## 스퀴즈(Squueeze)\r\n",
        "1인 차원을 제거"
      ]
    },
    {
      "cell_type": "code",
      "metadata": {
        "colab": {
          "base_uri": "https://localhost:8080/"
        },
        "id": "bFLHqceoNX4A",
        "outputId": "e0f6d100-f5d3-45c2-9409-f6cd7d50dc2d"
      },
      "source": [
        "ft=torch.FloatTensor([[0],[1],[2]])\r\n",
        "print(ft)\r\n",
        "print(ft.squeeze())\r\n",
        "print(ft.squeeze().shape)"
      ],
      "execution_count": null,
      "outputs": [
        {
          "output_type": "stream",
          "text": [
            "tensor([[0.],\n",
            "        [1.],\n",
            "        [2.]])\n",
            "tensor([0., 1., 2.])\n",
            "torch.Size([3])\n"
          ],
          "name": "stdout"
        }
      ]
    },
    {
      "cell_type": "markdown",
      "metadata": {
        "id": "kHgzhG6PNX8S"
      },
      "source": [
        "## 언스퀴즈(Unsqueeze)\r\n",
        "특정 위치에 1인 차원을 추가한다."
      ]
    },
    {
      "cell_type": "code",
      "metadata": {
        "colab": {
          "base_uri": "https://localhost:8080/"
        },
        "id": "-7xnNeBmNX_b",
        "outputId": "7ac3d99e-1a1c-4fbb-bc15-b8173abd6abf"
      },
      "source": [
        "ft=torch.Tensor([0,1,2])\r\n",
        "print(ft) #(3,)\r\n",
        "print(ft.unsqueeze(0))\r\n",
        "print(ft.unsqueeze(0).shape) #(1,3)"
      ],
      "execution_count": null,
      "outputs": [
        {
          "output_type": "stream",
          "text": [
            "tensor([0., 1., 2.])\n",
            "tensor([[0., 1., 2.]])\n",
            "torch.Size([1, 3])\n"
          ],
          "name": "stdout"
        }
      ]
    },
    {
      "cell_type": "code",
      "metadata": {
        "colab": {
          "base_uri": "https://localhost:8080/"
        },
        "id": "Cv5XZ68vNYDx",
        "outputId": "0f7f7e24-9ccb-4ad9-8c54-6953ac7856a8"
      },
      "source": [
        "print(ft.view(1,-1))\r\n",
        "print(ft.view(1,-1).shape)"
      ],
      "execution_count": null,
      "outputs": [
        {
          "output_type": "stream",
          "text": [
            "tensor([[0., 1., 2.]])\n",
            "torch.Size([1, 3])\n"
          ],
          "name": "stdout"
        }
      ]
    },
    {
      "cell_type": "code",
      "metadata": {
        "colab": {
          "base_uri": "https://localhost:8080/"
        },
        "id": "98Z5wNJ0NYHJ",
        "outputId": "51136474-d8c8-46fd-d34b-4d80883d5c83"
      },
      "source": [
        "print(ft.unsqueeze(1))\r\n",
        "print(ft.unsqueeze(1).shape)"
      ],
      "execution_count": null,
      "outputs": [
        {
          "output_type": "stream",
          "text": [
            "tensor([[0.],\n",
            "        [1.],\n",
            "        [2.]])\n",
            "torch.Size([3, 1])\n"
          ],
          "name": "stdout"
        }
      ]
    },
    {
      "cell_type": "code",
      "metadata": {
        "colab": {
          "base_uri": "https://localhost:8080/"
        },
        "id": "Af3BNIM9NYI_",
        "outputId": "87c04284-db43-4b25-e0a7-3337d348d9ed"
      },
      "source": [
        "print(ft.unsqueeze(-1))\r\n",
        "print(ft.unsqueeze(-1).shape)"
      ],
      "execution_count": null,
      "outputs": [
        {
          "output_type": "stream",
          "text": [
            "tensor([[0.],\n",
            "        [1.],\n",
            "        [2.]])\n",
            "torch.Size([3, 1])\n"
          ],
          "name": "stdout"
        }
      ]
    },
    {
      "cell_type": "markdown",
      "metadata": {
        "id": "orUidYXiNYfo"
      },
      "source": [
        "## 타입 캐스팅(Type Casting)\r\n",
        "텐서의 자료형을 변화하는 것"
      ]
    },
    {
      "cell_type": "code",
      "metadata": {
        "colab": {
          "base_uri": "https://localhost:8080/"
        },
        "id": "3EktHwBPNYi7",
        "outputId": "4bcf6197-1c27-491d-fd60-94c54fa8a169"
      },
      "source": [
        "lt=torch.LongTensor([1,2,3,4])\r\n",
        "print(lt)"
      ],
      "execution_count": null,
      "outputs": [
        {
          "output_type": "stream",
          "text": [
            "tensor([1, 2, 3, 4])\n"
          ],
          "name": "stdout"
        }
      ]
    },
    {
      "cell_type": "code",
      "metadata": {
        "colab": {
          "base_uri": "https://localhost:8080/"
        },
        "id": "GQBXaE5jNYnU",
        "outputId": "a33040bd-a7c4-4110-f181-5fe7f37cd3b7"
      },
      "source": [
        "print(lt.float())"
      ],
      "execution_count": null,
      "outputs": [
        {
          "output_type": "stream",
          "text": [
            "tensor([1., 2., 3., 4.])\n"
          ],
          "name": "stdout"
        }
      ]
    },
    {
      "cell_type": "code",
      "metadata": {
        "colab": {
          "base_uri": "https://localhost:8080/"
        },
        "id": "tfi43vcYUTii",
        "outputId": "1cee81a3-2b26-4e7d-b796-878a4c422e56"
      },
      "source": [
        "bt=torch.ByteTensor([True, False, False, True])\r\n",
        "print(bt)"
      ],
      "execution_count": null,
      "outputs": [
        {
          "output_type": "stream",
          "text": [
            "tensor([1, 0, 0, 1], dtype=torch.uint8)\n"
          ],
          "name": "stdout"
        }
      ]
    },
    {
      "cell_type": "code",
      "metadata": {
        "colab": {
          "base_uri": "https://localhost:8080/"
        },
        "id": "prgQljR4UaOX",
        "outputId": "bb042564-cab9-41c7-e8dc-1825ad764263"
      },
      "source": [
        "print(bt.long())\r\n",
        "print(bt.float())"
      ],
      "execution_count": null,
      "outputs": [
        {
          "output_type": "stream",
          "text": [
            "tensor([1, 0, 0, 1])\n",
            "tensor([1., 0., 0., 1.])\n"
          ],
          "name": "stdout"
        }
      ]
    },
    {
      "cell_type": "markdown",
      "metadata": {
        "id": "NqG-mhjrUgMW"
      },
      "source": [
        "## 연결하기(concatenate)\r\n",
        "두 텐서를 연결하는 법  \r\n",
        "=>두 텐서를 연결해서 입력으로 사용하는 것은 두 가지의 정보를 모두 사용한다는 의미"
      ]
    },
    {
      "cell_type": "code",
      "metadata": {
        "colab": {
          "base_uri": "https://localhost:8080/"
        },
        "id": "uX_EvxoCUhNP",
        "outputId": "7bd37fe7-9d3d-4c90-ce8a-2a15d74ad678"
      },
      "source": [
        "x=torch.FloatTensor([[1,2],[3,4]])\r\n",
        "y=torch.FloatTensor([[5,6],[7,8]])\r\n",
        "print(torch.cat([x,y],dim=0))\r\n",
        "print(torch.cat([x,y],dim=1))"
      ],
      "execution_count": null,
      "outputs": [
        {
          "output_type": "stream",
          "text": [
            "tensor([[1., 2.],\n",
            "        [3., 4.],\n",
            "        [5., 6.],\n",
            "        [7., 8.]])\n",
            "tensor([[1., 2., 5., 6.],\n",
            "        [3., 4., 7., 8.]])\n"
          ],
          "name": "stdout"
        }
      ]
    },
    {
      "cell_type": "markdown",
      "metadata": {
        "id": "_lOZn-49WNBF"
      },
      "source": [
        "## 스택킹(Stacking)\r\n",
        "영어로 쌓는다는 의미  \r\n",
        "때때로 연결을 하는 것보다 스택킹이 더 편리할 때가 있는데, 이는 스택킹이 많은 연산을 포함하고 있기 때문"
      ]
    },
    {
      "cell_type": "code",
      "metadata": {
        "colab": {
          "base_uri": "https://localhost:8080/"
        },
        "id": "c0asn355WNDs",
        "outputId": "ec59ba9b-5f2b-42be-d7ce-89939f0a3c20"
      },
      "source": [
        "x=torch.FloatTensor([1,4])\r\n",
        "y=torch.FloatTensor([2,5])\r\n",
        "z=torch.FloatTensor([3,6])\r\n",
        "print(torch.stack([x,y,z]))\r\n",
        "print(torch.stack([x,y,z], dim=1))"
      ],
      "execution_count": null,
      "outputs": [
        {
          "output_type": "stream",
          "text": [
            "tensor([[1., 4.],\n",
            "        [2., 5.],\n",
            "        [3., 6.]])\n",
            "tensor([[1., 2., 3.],\n",
            "        [4., 5., 6.]])\n"
          ],
          "name": "stdout"
        }
      ]
    },
    {
      "cell_type": "code",
      "metadata": {
        "colab": {
          "base_uri": "https://localhost:8080/"
        },
        "id": "BhEtjZc3WNIy",
        "outputId": "d676fcf9-22ef-4268-b604-37b7988bf8da"
      },
      "source": [
        "#stack은 많은 연산을 함축함\r\n",
        "print(torch.cat([x.unsqueeze(0),y.unsqueeze(0),z.unsqueeze(0)],dim=0))"
      ],
      "execution_count": null,
      "outputs": [
        {
          "output_type": "stream",
          "text": [
            "tensor([[1., 4.],\n",
            "        [2., 5.],\n",
            "        [3., 6.]])\n"
          ],
          "name": "stdout"
        }
      ]
    },
    {
      "cell_type": "markdown",
      "metadata": {
        "id": "bQBbf7j3UhPc"
      },
      "source": [
        "## ones_like와 zeros_like : 0으로 채워진 텐서와 1로 채워진 텐서\r\n",
        "입력 텐서와 크기를 동일하게 하면서 값을 0/1로 채우기"
      ]
    },
    {
      "cell_type": "code",
      "metadata": {
        "colab": {
          "base_uri": "https://localhost:8080/"
        },
        "id": "RG9O3DiRUhTJ",
        "outputId": "74886da8-ba8c-4095-84ce-e73b617cc0c9"
      },
      "source": [
        "x=torch.FloatTensor([[0,1,2],[2,1,0]])\r\n",
        "print(x)\r\n",
        "print(torch.ones_like(x))\r\n",
        "print(torch.zeros_like(x))"
      ],
      "execution_count": null,
      "outputs": [
        {
          "output_type": "stream",
          "text": [
            "tensor([[0., 1., 2.],\n",
            "        [2., 1., 0.]])\n",
            "tensor([[1., 1., 1.],\n",
            "        [1., 1., 1.]])\n",
            "tensor([[0., 0., 0.],\n",
            "        [0., 0., 0.]])\n"
          ],
          "name": "stdout"
        }
      ]
    },
    {
      "cell_type": "markdown",
      "metadata": {
        "id": "Cal_1zRJUhWp"
      },
      "source": [
        "## In-place Operation(덮어쓰기 연산)"
      ]
    },
    {
      "cell_type": "code",
      "metadata": {
        "colab": {
          "base_uri": "https://localhost:8080/"
        },
        "id": "Qmumh-LkUhZD",
        "outputId": "844594b5-597f-4dbb-d058-33de0a284602"
      },
      "source": [
        "x=torch.FloatTensor([[1,2],[3,4]])\r\n",
        "print(x.mul(2.)) # 곱하기 2를 수행한 결과를 출력\r\n",
        "print(x) # 기존의 값 출력"
      ],
      "execution_count": null,
      "outputs": [
        {
          "output_type": "stream",
          "text": [
            "tensor([[2., 4.],\n",
            "        [6., 8.]])\n",
            "tensor([[1., 2.],\n",
            "        [3., 4.]])\n"
          ],
          "name": "stdout"
        }
      ]
    },
    {
      "cell_type": "code",
      "metadata": {
        "colab": {
          "base_uri": "https://localhost:8080/"
        },
        "id": "9XOM2rB1ZLWR",
        "outputId": "ba6cf734-3f02-4703-8465-a483bbc26d45"
      },
      "source": [
        "#\"_\"를 붙이면 덮어쓰기 연산이 가능\r\n",
        "print(x.mul_(2.)) # 곱하기 2를 수행한 결과를 출력\r\n",
        "print(x) # 기존의 값 출력"
      ],
      "execution_count": null,
      "outputs": [
        {
          "output_type": "stream",
          "text": [
            "tensor([[2., 4.],\n",
            "        [6., 8.]])\n",
            "tensor([[2., 4.],\n",
            "        [6., 8.]])\n"
          ],
          "name": "stdout"
        }
      ]
    },
    {
      "cell_type": "code",
      "metadata": {
        "id": "HKhl4_znZPWQ"
      },
      "source": [
        ""
      ],
      "execution_count": null,
      "outputs": []
    }
  ]
}