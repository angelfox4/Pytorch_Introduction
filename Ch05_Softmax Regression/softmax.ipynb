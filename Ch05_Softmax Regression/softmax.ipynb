{
  "nbformat": 4,
  "nbformat_minor": 0,
  "metadata": {
    "colab": {
      "name": "softmax.ipynb",
      "provenance": [],
      "collapsed_sections": [],
      "authorship_tag": "ABX9TyNdXXwver+4qLjkqTzaSVbS",
      "include_colab_link": true
    },
    "kernelspec": {
      "name": "python3",
      "display_name": "Python 3"
    }
  },
  "cells": [
    {
      "cell_type": "markdown",
      "metadata": {
        "id": "view-in-github",
        "colab_type": "text"
      },
      "source": [
        "<a href=\"https://colab.research.google.com/github/angelfox4/Pytorch_Introduction/blob/main/softmax.ipynb\" target=\"_parent\"><img src=\"https://colab.research.google.com/assets/colab-badge.svg\" alt=\"Open In Colab\"/></a>"
      ]
    },
    {
      "cell_type": "code",
      "metadata": {
        "colab": {
          "base_uri": "https://localhost:8080/"
        },
        "id": "l2G7u-Rp0a5m",
        "outputId": "846fb287-592d-4fe4-ab9b-ed83dc1396bb"
      },
      "source": [
        "import torch\r\n",
        "import torch.nn as nn\r\n",
        "import torch.nn.functional as F\r\n",
        "import torch.optim as optim\r\n",
        "torch.manual_seed(1)"
      ],
      "execution_count": null,
      "outputs": [
        {
          "output_type": "execute_result",
          "data": {
            "text/plain": [
              "<torch._C.Generator at 0x7fcbc34b8b58>"
            ]
          },
          "metadata": {
            "tags": []
          },
          "execution_count": 2
        }
      ]
    },
    {
      "cell_type": "markdown",
      "metadata": {
        "id": "nLyyWTd61ZFt"
      },
      "source": [
        "## 소프트맥스 회귀 구현하기(low-level)"
      ]
    },
    {
      "cell_type": "code",
      "metadata": {
        "id": "mzrhA-G60bf3"
      },
      "source": [
        "# 훈련데이터 선언\r\n",
        "x_train = [[1, 2, 1, 1],\r\n",
        "           [2, 1, 3, 2],\r\n",
        "           [3, 1, 3, 4],\r\n",
        "           [4, 1, 5, 5],\r\n",
        "           [1, 7, 5, 5],\r\n",
        "           [1, 2, 5, 6],\r\n",
        "           [1, 6, 6, 6],\r\n",
        "           [1, 7, 7, 7]]\r\n",
        "y_train = [2, 2, 2, 1, 1, 1, 0, 0]\r\n",
        "x_train=torch.FloatTensor(x_train) #8개의 샘플과 4개의 특성\r\n",
        "y_train=torch.LongTensor(y_train) #각 샘플에 대한 레이블, 총 3개의 클래스를 가짐"
      ],
      "execution_count": null,
      "outputs": []
    },
    {
      "cell_type": "code",
      "metadata": {
        "colab": {
          "base_uri": "https://localhost:8080/"
        },
        "id": "8igjWCUb0bkj",
        "outputId": "ae764658-7ede-4c8e-e789-791280d03200"
      },
      "source": [
        "#y_train one-hot encoding\r\n",
        "y_one_hot=torch.zeros(8,3)\r\n",
        "y_one_hot.scatter_(1, y_train.unsqueeze(1), 1)\r\n",
        "print(y_one_hot.shape)"
      ],
      "execution_count": null,
      "outputs": [
        {
          "output_type": "stream",
          "text": [
            "torch.Size([8, 3])\n"
          ],
          "name": "stdout"
        }
      ]
    },
    {
      "cell_type": "code",
      "metadata": {
        "id": "KWc3Ds300bpU"
      },
      "source": [
        "#모델 초기화\r\n",
        "W=torch.zeros((4,3), requires_grad=True)\r\n",
        "b=torch.zeros(1, requires_grad=True)\r\n",
        "#optimizer 설정\r\n",
        "optimizer=optim.SGD([W,b], lr=0.1)"
      ],
      "execution_count": null,
      "outputs": []
    },
    {
      "cell_type": "code",
      "metadata": {
        "colab": {
          "base_uri": "https://localhost:8080/"
        },
        "id": "CC9TX_rR0bvl",
        "outputId": "50974c18-c651-4f4f-a2f8-9fd5cb7b9f27"
      },
      "source": [
        "nb_epochs=1000\r\n",
        "for epoch in range(nb_epochs+1):\r\n",
        "  #가설\r\n",
        "  hypothesis=F.softmax(x_train.matmul(W)+b, dim=1)\r\n",
        "\r\n",
        "  #비용 함수\r\n",
        "  cost=(y_one_hot*-torch.log(hypothesis)).sum(dim=1).mean()\r\n",
        "\r\n",
        "  #cost로 H(x) 개선\r\n",
        "  optimizer.zero_grad()\r\n",
        "  cost.backward()\r\n",
        "  optimizer.step()\r\n",
        "\r\n",
        "  #100번마다 로그 출력\r\n",
        "  if epoch % 100 == 0:\r\n",
        "    print('Epoch {:4d}/{} Cost: {:.6f}'.format(\r\n",
        "        epoch, nb_epochs, cost.item()\r\n",
        "    ))"
      ],
      "execution_count": null,
      "outputs": [
        {
          "output_type": "stream",
          "text": [
            "Epoch    0/1000 Cost: 1.098612\n",
            "Epoch  100/1000 Cost: 0.761050\n",
            "Epoch  200/1000 Cost: 0.689991\n",
            "Epoch  300/1000 Cost: 0.643229\n",
            "Epoch  400/1000 Cost: 0.604117\n",
            "Epoch  500/1000 Cost: 0.568255\n",
            "Epoch  600/1000 Cost: 0.533922\n",
            "Epoch  700/1000 Cost: 0.500291\n",
            "Epoch  800/1000 Cost: 0.466908\n",
            "Epoch  900/1000 Cost: 0.433507\n",
            "Epoch 1000/1000 Cost: 0.399962\n"
          ],
          "name": "stdout"
        }
      ]
    },
    {
      "cell_type": "markdown",
      "metadata": {
        "id": "P23O4rsc0byf"
      },
      "source": [
        "## 소프트맥스 회귀 구현(high-level)\r\n",
        "F.cross_entropy()를 사용, 주의할 점은 함수가 소프트맥스를 포함하므로 가설 부분이 필요가 없어짐"
      ]
    },
    {
      "cell_type": "code",
      "metadata": {
        "colab": {
          "base_uri": "https://localhost:8080/"
        },
        "id": "j06EnQeY0b4G",
        "outputId": "25a1c195-30ed-453a-874b-aaff326bf038"
      },
      "source": [
        "#모델 초기화\r\n",
        "W=torch.zeros((4,3), requires_grad=True)\r\n",
        "b=torch.zeros(1, requires_grad=True)\r\n",
        "#optimizer 설정\r\n",
        "optimizer=optim.SGD([W,b], lr=0.1)\r\n",
        "\r\n",
        "nb_epochs=1000\r\n",
        "for epoch in range(nb_epochs+1):\r\n",
        "  #cost 계산\r\n",
        "  z=x_train.matmul(W)+b\r\n",
        "  cost=F.cross_entropy(z, y_train)\r\n",
        "\r\n",
        "  #cost로 H(x) 개선\r\n",
        "  optimizer.zero_grad()\r\n",
        "  cost.backward()\r\n",
        "  optimizer.step()\r\n",
        "\r\n",
        "  #100번마다 로그 출력\r\n",
        "  if epoch % 100 == 0:\r\n",
        "    print('Epoch {:4d}/{} Cost: {:.6f}'.format(\r\n",
        "        epoch, nb_epochs, cost.item()\r\n",
        "    ))"
      ],
      "execution_count": null,
      "outputs": [
        {
          "output_type": "stream",
          "text": [
            "Epoch    0/1000 Cost: 1.098612\n",
            "Epoch  100/1000 Cost: 0.761050\n",
            "Epoch  200/1000 Cost: 0.689991\n",
            "Epoch  300/1000 Cost: 0.643229\n",
            "Epoch  400/1000 Cost: 0.604117\n",
            "Epoch  500/1000 Cost: 0.568256\n",
            "Epoch  600/1000 Cost: 0.533922\n",
            "Epoch  700/1000 Cost: 0.500291\n",
            "Epoch  800/1000 Cost: 0.466908\n",
            "Epoch  900/1000 Cost: 0.433507\n",
            "Epoch 1000/1000 Cost: 0.399962\n"
          ],
          "name": "stdout"
        }
      ]
    },
    {
      "cell_type": "markdown",
      "metadata": {
        "id": "1eD0ZVK70b7Q"
      },
      "source": [
        "## nn.Module로 소프트맥스 구현"
      ]
    },
    {
      "cell_type": "code",
      "metadata": {
        "colab": {
          "base_uri": "https://localhost:8080/"
        },
        "id": "yKjYVdpt0b-F",
        "outputId": "1de6c0a6-44e1-48d5-b2ba-d3b8f06922d2"
      },
      "source": [
        "#모델 선언 및 초기화, 4개의 특성을 가지고 3개의 클래스로 분류. input_dim=4, output_dim=3\r\n",
        "model=nn.Linear(4,3)\r\n",
        "\r\n",
        "#원래 부분\r\n",
        "#W=torch.zeros((4,3), requires_grad=True)\r\n",
        "#b=torch.zeros(1, requires_grad=True)"
      ],
      "execution_count": null,
      "outputs": [
        {
          "output_type": "execute_result",
          "data": {
            "text/plain": [
              "<generator object Module.parameters at 0x7fcb6cc562b0>"
            ]
          },
          "metadata": {
            "tags": []
          },
          "execution_count": 18
        }
      ]
    },
    {
      "cell_type": "code",
      "metadata": {
        "colab": {
          "base_uri": "https://localhost:8080/"
        },
        "id": "-gRAvbQh0cAP",
        "outputId": "99586316-d378-4d71-b9cd-c54107e7cde8"
      },
      "source": [
        "#optimizer 설정\r\n",
        "optimizer=optim.SGD(model.parameters(), lr=0.01)\r\n",
        "\r\n",
        "nb_epochs=1000\r\n",
        "for epoch in range(nb_epochs+1):\r\n",
        "  #cost 계산\r\n",
        "  prediction=model(x_train) #원래 부분 : z=x_train.matmul(W)+b\r\n",
        "  cost=F.cross_entropy(prediction, y_train)\r\n",
        "\r\n",
        "  #cost로 H(x) 개선\r\n",
        "  optimizer.zero_grad()\r\n",
        "  cost.backward()\r\n",
        "  optimizer.step()\r\n",
        "\r\n",
        "  #100번마다 로그 출력\r\n",
        "  if epoch % 100 == 0:\r\n",
        "    print('Epoch {:4d}/{} Cost: {:.6f}'.format(\r\n",
        "        epoch, nb_epochs, cost.item()\r\n",
        "    ))"
      ],
      "execution_count": null,
      "outputs": [
        {
          "output_type": "stream",
          "text": [
            "Epoch    0/1000 Cost: 1.616785\n",
            "Epoch  100/1000 Cost: 0.863129\n",
            "Epoch  200/1000 Cost: 0.760346\n",
            "Epoch  300/1000 Cost: 0.707352\n",
            "Epoch  400/1000 Cost: 0.669059\n",
            "Epoch  500/1000 Cost: 0.639046\n",
            "Epoch  600/1000 Cost: 0.614619\n",
            "Epoch  700/1000 Cost: 0.594219\n",
            "Epoch  800/1000 Cost: 0.576826\n",
            "Epoch  900/1000 Cost: 0.561739\n",
            "Epoch 1000/1000 Cost: 0.548455\n"
          ],
          "name": "stdout"
        }
      ]
    },
    {
      "cell_type": "markdown",
      "metadata": {
        "id": "fI4o7k710cCx"
      },
      "source": [
        "## 클래스로 소프트맥스 구현"
      ]
    },
    {
      "cell_type": "code",
      "metadata": {
        "id": "K1-2Se0F84XH"
      },
      "source": [
        "class SoftmaxClassifierModel(nn.Module):\r\n",
        "  def __init__(self):\r\n",
        "    super().__init__()\r\n",
        "    self.linear=nn.Linear(4,3) #output이 3!\r\n",
        "\r\n",
        "  def forward(self, x):\r\n",
        "    return self.linear(x)"
      ],
      "execution_count": null,
      "outputs": []
    },
    {
      "cell_type": "code",
      "metadata": {
        "id": "GH8UbyJa84yM"
      },
      "source": [
        "model=SoftmaxClassifierModel()"
      ],
      "execution_count": null,
      "outputs": []
    },
    {
      "cell_type": "code",
      "metadata": {
        "colab": {
          "base_uri": "https://localhost:8080/"
        },
        "id": "iKfrL7vK841G",
        "outputId": "0d3e8cda-f027-4acb-f81e-953b2d99cfef"
      },
      "source": [
        "# optimizer 설정\r\n",
        "optimizer = optim.SGD(model.parameters(), lr=0.1)\r\n",
        "\r\n",
        "nb_epochs = 1000\r\n",
        "for epoch in range(nb_epochs + 1):\r\n",
        "\r\n",
        "    # H(x) 계산\r\n",
        "    prediction = model(x_train)\r\n",
        "\r\n",
        "    # cost 계산\r\n",
        "    cost = F.cross_entropy(prediction, y_train)\r\n",
        "\r\n",
        "    # cost로 H(x) 개선\r\n",
        "    optimizer.zero_grad()\r\n",
        "    cost.backward()\r\n",
        "    optimizer.step()\r\n",
        "\r\n",
        "    # 20번마다 로그 출력\r\n",
        "    if epoch % 100 == 0:\r\n",
        "        print('Epoch {:4d}/{} Cost: {:.6f}'.format(\r\n",
        "            epoch, nb_epochs, cost.item()\r\n",
        "        ))"
      ],
      "execution_count": null,
      "outputs": [
        {
          "output_type": "stream",
          "text": [
            "Epoch    0/1000 Cost: 2.637636\n",
            "Epoch  100/1000 Cost: 0.647903\n",
            "Epoch  200/1000 Cost: 0.564643\n",
            "Epoch  300/1000 Cost: 0.511043\n",
            "Epoch  400/1000 Cost: 0.467249\n",
            "Epoch  500/1000 Cost: 0.428281\n",
            "Epoch  600/1000 Cost: 0.391924\n",
            "Epoch  700/1000 Cost: 0.356742\n",
            "Epoch  800/1000 Cost: 0.321577\n",
            "Epoch  900/1000 Cost: 0.285617\n",
            "Epoch 1000/1000 Cost: 0.250818\n"
          ],
          "name": "stdout"
        }
      ]
    }
  ]
}