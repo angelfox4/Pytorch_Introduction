{
  "nbformat": 4,
  "nbformat_minor": 0,
  "metadata": {
    "colab": {
      "name": "cross_entropy.ipynb",
      "provenance": [],
      "collapsed_sections": [],
      "authorship_tag": "ABX9TyNcl+rce5QXmGGrPqE2Eg62",
      "include_colab_link": true
    },
    "kernelspec": {
      "name": "python3",
      "display_name": "Python 3"
    }
  },
  "cells": [
    {
      "cell_type": "markdown",
      "metadata": {
        "id": "view-in-github",
        "colab_type": "text"
      },
      "source": [
        "<a href=\"https://colab.research.google.com/github/angelfox4/Pytorch_Introduction/blob/main/cross_entropy.ipynb\" target=\"_parent\"><img src=\"https://colab.research.google.com/assets/colab-badge.svg\" alt=\"Open In Colab\"/></a>"
      ]
    },
    {
      "cell_type": "code",
      "metadata": {
        "colab": {
          "base_uri": "https://localhost:8080/"
        },
        "id": "S-p5WGZCxYUl",
        "outputId": "51f9ddd3-d06c-41c0-c90f-f8abfac3e3b2"
      },
      "source": [
        "import torch\r\n",
        "import torch.nn.functional as F\r\n",
        "torch.manual_seed(1)"
      ],
      "execution_count": null,
      "outputs": [
        {
          "output_type": "execute_result",
          "data": {
            "text/plain": [
              "<torch._C.Generator at 0x7ff9c2930b70>"
            ]
          },
          "metadata": {
            "tags": []
          },
          "execution_count": 1
        }
      ]
    },
    {
      "cell_type": "markdown",
      "metadata": {
        "id": "h9thdUyRxt_F"
      },
      "source": [
        "## 소프트맥스 맛보기"
      ]
    },
    {
      "cell_type": "code",
      "metadata": {
        "colab": {
          "base_uri": "https://localhost:8080/"
        },
        "id": "pzSQ0ATixZLR",
        "outputId": "9a254a38-3e4c-4b05-eace-860667d1a120"
      },
      "source": [
        "z=torch.FloatTensor([1,2,3])\r\n",
        "hypothesis=F.softmax(z, dim=0)\r\n",
        "print(hypothesis)"
      ],
      "execution_count": null,
      "outputs": [
        {
          "output_type": "stream",
          "text": [
            "tensor([0.0900, 0.2447, 0.6652])\n"
          ],
          "name": "stdout"
        }
      ]
    },
    {
      "cell_type": "code",
      "metadata": {
        "colab": {
          "base_uri": "https://localhost:8080/"
        },
        "id": "iGJiCUykxZOK",
        "outputId": "58edd366-61e4-4df8-b51b-dcabc541ddfe"
      },
      "source": [
        "hypothesis.sum()"
      ],
      "execution_count": null,
      "outputs": [
        {
          "output_type": "execute_result",
          "data": {
            "text/plain": [
              "tensor(1.)"
            ]
          },
          "metadata": {
            "tags": []
          },
          "execution_count": 3
        }
      ]
    },
    {
      "cell_type": "markdown",
      "metadata": {
        "id": "Z16AviS3xZS4"
      },
      "source": [
        "## 비용함수 구현하기(low-level)"
      ]
    },
    {
      "cell_type": "code",
      "metadata": {
        "colab": {
          "base_uri": "https://localhost:8080/"
        },
        "id": "yIO0qDE5xZV7",
        "outputId": "32e96827-8a15-4c2a-f8ef-6b1c1fbd87bb"
      },
      "source": [
        "z=torch.rand(3,5, requires_grad=True) #3*5 행렬을 만듦\r\n",
        "hypothesis=F.softmax(z, dim=1) #sample(행)기준\r\n",
        "print(hypothesis)\r\n"
      ],
      "execution_count": null,
      "outputs": [
        {
          "output_type": "stream",
          "text": [
            "tensor([[0.2645, 0.1639, 0.1855, 0.2585, 0.1277],\n",
            "        [0.2430, 0.1624, 0.2322, 0.1930, 0.1694],\n",
            "        [0.2226, 0.1986, 0.2326, 0.1594, 0.1868]], grad_fn=<SoftmaxBackward>)\n"
          ],
          "name": "stdout"
        }
      ]
    },
    {
      "cell_type": "code",
      "metadata": {
        "colab": {
          "base_uri": "https://localhost:8080/"
        },
        "id": "NWAUJuqpxZYE",
        "outputId": "ce5437b4-1823-4bfe-eb89-11ab445a34b8"
      },
      "source": [
        "#각 샘플에 대해서 임의의 레이블 만들기\r\n",
        "y=torch.randint(5, (3,)).long()\r\n",
        "print(y)"
      ],
      "execution_count": null,
      "outputs": [
        {
          "output_type": "stream",
          "text": [
            "tensor([3, 2, 3])\n"
          ],
          "name": "stdout"
        }
      ]
    },
    {
      "cell_type": "code",
      "metadata": {
        "colab": {
          "base_uri": "https://localhost:8080/"
        },
        "id": "4RbVUYjUxZdh",
        "outputId": "d5dc8e53-68af-476b-acc2-6b6b42287c71"
      },
      "source": [
        "y_one_hot=torch.zeros_like(hypothesis)\r\n",
        "y_one_hot.scatter_(1, y.unsqueeze(1), 1) #dim=1, y.unsqueeze(1)의 인덱스에 1을 해당하기"
      ],
      "execution_count": null,
      "outputs": [
        {
          "output_type": "execute_result",
          "data": {
            "text/plain": [
              "tensor([[0., 0., 0., 1., 0.],\n",
              "        [0., 0., 1., 0., 0.],\n",
              "        [0., 0., 0., 1., 0.]])"
            ]
          },
          "metadata": {
            "tags": []
          },
          "execution_count": 14
        }
      ]
    },
    {
      "cell_type": "code",
      "metadata": {
        "colab": {
          "base_uri": "https://localhost:8080/"
        },
        "id": "2FkbidLZxZfp",
        "outputId": "bbb6ad2d-8f83-49cf-d429-46220dcbbf06"
      },
      "source": [
        "#비용함수\r\n",
        "cost=(y_one_hot* -torch.log(hypothesis)).sum(dim=1).mean()\r\n",
        "print(cost)"
      ],
      "execution_count": null,
      "outputs": [
        {
          "output_type": "stream",
          "text": [
            "tensor(1.5497, grad_fn=<MeanBackward0>)\n"
          ],
          "name": "stdout"
        }
      ]
    },
    {
      "cell_type": "markdown",
      "metadata": {
        "id": "p0qS2VyrxZi7"
      },
      "source": [
        "## 비용함수 구현하기(high-level)\r\n",
        "주의해야 할 것은 F.cross_entropy는 비용함수에 소프트맥스 함수까지 포함하고 있다는 것"
      ]
    },
    {
      "cell_type": "code",
      "metadata": {
        "colab": {
          "base_uri": "https://localhost:8080/"
        },
        "id": "VM3NtL14xZk0",
        "outputId": "e27a8b02-cb4b-4e18-a4d3-a120349bf0c3"
      },
      "source": [
        "#low level\r\n",
        "torch.log(F.softmax(z, dim=1))\r\n",
        "#high level(두 개의 함수를 합한 파이토치 함수)\r\n",
        "F.log_softmax(z, dim=1)"
      ],
      "execution_count": null,
      "outputs": [
        {
          "output_type": "execute_result",
          "data": {
            "text/plain": [
              "tensor([[-1.3301, -1.8084, -1.6846, -1.3530, -2.0584],\n",
              "        [-1.4147, -1.8174, -1.4602, -1.6450, -1.7758],\n",
              "        [-1.5025, -1.6165, -1.4586, -1.8360, -1.6776]],\n",
              "       grad_fn=<LogSoftmaxBackward>)"
            ]
          },
          "metadata": {
            "tags": []
          },
          "execution_count": 17
        }
      ]
    },
    {
      "cell_type": "code",
      "metadata": {
        "colab": {
          "base_uri": "https://localhost:8080/"
        },
        "id": "1Q0uXnVjxZnr",
        "outputId": "6e14a03c-0af3-4840-e4da-9d2a447ebd5b"
      },
      "source": [
        "#low level 비용함수\r\n",
        "(y_one_hot* -torch.log(hypothesis)).sum(dim=1).mean()\r\n",
        "#high level 비용함수\r\n",
        "F.nll_loss(F.log_softmax(z, dim=1), y)\r\n",
        "#high level 비용함수\r\n",
        "F.cross_entropy(z, y)"
      ],
      "execution_count": null,
      "outputs": [
        {
          "output_type": "execute_result",
          "data": {
            "text/plain": [
              "tensor(1.5497, grad_fn=<NllLossBackward>)"
            ]
          },
          "metadata": {
            "tags": []
          },
          "execution_count": 19
        }
      ]
    },
    {
      "cell_type": "code",
      "metadata": {
        "id": "lH1hjtwYxZ7X"
      },
      "source": [
        ""
      ],
      "execution_count": null,
      "outputs": []
    }
  ]
}