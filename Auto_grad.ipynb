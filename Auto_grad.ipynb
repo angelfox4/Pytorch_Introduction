{
  "nbformat": 4,
  "nbformat_minor": 0,
  "metadata": {
    "colab": {
      "name": "Auto_grad.ipynb",
      "provenance": [],
      "collapsed_sections": [],
      "authorship_tag": "ABX9TyNHsjflB80G9Kbokl7ITFJj",
      "include_colab_link": true
    },
    "kernelspec": {
      "name": "python3",
      "display_name": "Python 3"
    }
  },
  "cells": [
    {
      "cell_type": "markdown",
      "metadata": {
        "id": "view-in-github",
        "colab_type": "text"
      },
      "source": [
        "<a href=\"https://colab.research.google.com/github/angelfox4/Pytorch_Introduction/blob/main/Auto_grad.ipynb\" target=\"_parent\"><img src=\"https://colab.research.google.com/assets/colab-badge.svg\" alt=\"Open In Colab\"/></a>"
      ]
    },
    {
      "cell_type": "markdown",
      "metadata": {
        "id": "AFNg14CUqRG4"
      },
      "source": [
        "## 자동미분(Autograd) 실습하기\r\n",
        "requires_grad 옵션의 의미는 어떤 객체에 대한 기울기를 저장하게다는 의미"
      ]
    },
    {
      "cell_type": "code",
      "metadata": {
        "colab": {
          "base_uri": "https://localhost:8080/"
        },
        "id": "QUBptL0YqNVF",
        "outputId": "e98f27a7-3347-498d-8fb4-3f4085d159a5"
      },
      "source": [
        "import numpy as np\r\n",
        "import torch\r\n",
        "import torch.nn as nn\r\n",
        "import torch.nn.functional as F\r\n",
        "import torch.optim as optim\r\n",
        "torch.manual_seed(1)"
      ],
      "execution_count": null,
      "outputs": [
        {
          "output_type": "execute_result",
          "data": {
            "text/plain": [
              "<torch._C.Generator at 0x7f05ee482b58>"
            ]
          },
          "metadata": {
            "tags": []
          },
          "execution_count": 1
        }
      ]
    },
    {
      "cell_type": "markdown",
      "metadata": {
        "id": "G7lijNXmqs8A"
      },
      "source": [
        "1. 변수 선언"
      ]
    },
    {
      "cell_type": "code",
      "metadata": {
        "id": "Unh3MCmBqUFz"
      },
      "source": [
        "w=torch.tensor(2.0, requires_grad=True) # requires"
      ],
      "execution_count": null,
      "outputs": []
    },
    {
      "cell_type": "markdown",
      "metadata": {
        "id": "QUWWZvjXqUIW"
      },
      "source": [
        "2. 수식 정의"
      ]
    },
    {
      "cell_type": "code",
      "metadata": {
        "id": "ClfxMrTHqULP"
      },
      "source": [
        "y=w**2\r\n",
        "z=2*y+5"
      ],
      "execution_count": null,
      "outputs": []
    },
    {
      "cell_type": "markdown",
      "metadata": {
        "id": "hdUdFjSdqUNh"
      },
      "source": [
        "3. 기울기 계산"
      ]
    },
    {
      "cell_type": "code",
      "metadata": {
        "colab": {
          "base_uri": "https://localhost:8080/"
        },
        "id": "PHIHvzysqURQ",
        "outputId": "9586ae06-964c-4a3e-81fa-a5167abdf574"
      },
      "source": [
        "z.backward()\r\n",
        "print(w.grad)"
      ],
      "execution_count": null,
      "outputs": [
        {
          "output_type": "stream",
          "text": [
            "tensor(16.)\n"
          ],
          "name": "stdout"
        }
      ]
    },
    {
      "cell_type": "code",
      "metadata": {
        "id": "0cgAI7-OqUeO"
      },
      "source": [
        ""
      ],
      "execution_count": null,
      "outputs": []
    },
    {
      "cell_type": "code",
      "metadata": {
        "id": "p213pFN8qUg3"
      },
      "source": [
        ""
      ],
      "execution_count": null,
      "outputs": []
    },
    {
      "cell_type": "code",
      "metadata": {
        "id": "Ftxq0L6RqUi9"
      },
      "source": [
        ""
      ],
      "execution_count": null,
      "outputs": []
    }
  ]
}