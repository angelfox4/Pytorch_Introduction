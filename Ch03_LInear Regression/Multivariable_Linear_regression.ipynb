{
  "nbformat": 4,
  "nbformat_minor": 0,
  "metadata": {
    "colab": {
      "name": "Multivariable Linear regression.ipynb",
      "provenance": [],
      "collapsed_sections": [],
      "authorship_tag": "ABX9TyOzsywrb2yntaNliYlTr5km",
      "include_colab_link": true
    },
    "kernelspec": {
      "name": "python3",
      "display_name": "Python 3"
    }
  },
  "cells": [
    {
      "cell_type": "markdown",
      "metadata": {
        "id": "view-in-github",
        "colab_type": "text"
      },
      "source": [
        "<a href=\"https://colab.research.google.com/github/angelfox4/Pytorch_Introduction/blob/main/Multivariable_Linear_regression.ipynb\" target=\"_parent\"><img src=\"https://colab.research.google.com/assets/colab-badge.svg\" alt=\"Open In Colab\"/></a>"
      ]
    },
    {
      "cell_type": "markdown",
      "metadata": {
        "id": "-0EP1utNCjxO"
      },
      "source": [
        "## 다중선형회귀 구현하기"
      ]
    },
    {
      "cell_type": "code",
      "metadata": {
        "id": "o8l8b0ffAUJU"
      },
      "source": [
        "import torch\r\n",
        "import torch.nn as nn\r\n",
        "import torch.nn.functional as F\r\n",
        "import torch.optim as optim"
      ],
      "execution_count": null,
      "outputs": []
    },
    {
      "cell_type": "code",
      "metadata": {
        "colab": {
          "base_uri": "https://localhost:8080/"
        },
        "id": "tPyOPXtkAUsB",
        "outputId": "87004b59-83b2-4fa3-a8ce-5f9ec4ab91c9"
      },
      "source": [
        "torch.manual_seed(1)"
      ],
      "execution_count": null,
      "outputs": [
        {
          "output_type": "execute_result",
          "data": {
            "text/plain": [
              "<torch._C.Generator at 0x7fb4929cbb58>"
            ]
          },
          "metadata": {
            "tags": []
          },
          "execution_count": 2
        }
      ]
    },
    {
      "cell_type": "code",
      "metadata": {
        "id": "lGdeZldtAUul"
      },
      "source": [
        "#훈련 데이터 선언\r\n",
        "x1_train=torch.FloatTensor([[73],[93],[89],[96],[73]])\r\n",
        "x2_train = torch.FloatTensor([[80], [88], [91], [98], [66]])\r\n",
        "x3_train = torch.FloatTensor([[75], [93], [90], [100], [70]])\r\n",
        "y_train = torch.FloatTensor([[152], [185], [180], [196], [142]])"
      ],
      "execution_count": null,
      "outputs": []
    },
    {
      "cell_type": "code",
      "metadata": {
        "id": "KAwlCqE8AUxD"
      },
      "source": [
        "#가중치 w와 편향 b를 선언\r\n",
        "w1=torch.zeros(1, requires_grad=True)\r\n",
        "w2=torch.zeros(1, requires_grad=True)\r\n",
        "w3=torch.zeros(1, requires_grad=True)\r\n",
        "b=torch.zeros(1, requires_grad=True)"
      ],
      "execution_count": null,
      "outputs": []
    },
    {
      "cell_type": "code",
      "metadata": {
        "colab": {
          "base_uri": "https://localhost:8080/"
        },
        "id": "b3tdcXb1AUzl",
        "outputId": "ad520bd0-6214-4eec-d01b-105c39796e49"
      },
      "source": [
        "#가설, 비용함수, 옵티마이저 선언 후 경사 하강법 1,000회 반복\r\n",
        "optimizer=optim.SGD([w1, w2, w3, b], lr=1e-5)\r\n",
        "\r\n",
        "nb_epochs=1000\r\n",
        "for epoch in range(nb_epochs+1):\r\n",
        "\r\n",
        "  #H(x) 계산\r\n",
        "  hypothesis=x1_train * w1+x2_train*w2+x3_train*w3+b\r\n",
        "\r\n",
        "  #cost 계산\r\n",
        "  cost=torch.mean((hypothesis-y_train)**2)\r\n",
        "\r\n",
        "  #cost로 H(x) 개선\r\n",
        "  optimizer.zero_grad()\r\n",
        "  cost.backward()\r\n",
        "  optimizer.step()\r\n",
        "\r\n",
        "  if epoch % 100 == 0:\r\n",
        "      print('Epoch {:4d}/{} w1: {:.3f} w2: {:.3f} w3: {:.3f} b: {:.3f} Cost: {:.6f}'.format(\r\n",
        "          epoch, nb_epochs, w1.item(), w2.item(), w3.item(), b.item(), cost.item()\r\n",
        "      ))"
      ],
      "execution_count": null,
      "outputs": [
        {
          "output_type": "stream",
          "text": [
            "Epoch    0/1000 w1: 0.294 w2: 0.294 w3: 0.297 b: 0.003 Cost: 29661.800781\n",
            "Epoch  100/1000 w1: 0.674 w2: 0.661 w3: 0.676 b: 0.008 Cost: 1.563628\n",
            "Epoch  200/1000 w1: 0.679 w2: 0.655 w3: 0.677 b: 0.008 Cost: 1.497595\n",
            "Epoch  300/1000 w1: 0.684 w2: 0.649 w3: 0.677 b: 0.008 Cost: 1.435044\n",
            "Epoch  400/1000 w1: 0.689 w2: 0.643 w3: 0.678 b: 0.008 Cost: 1.375726\n",
            "Epoch  500/1000 w1: 0.694 w2: 0.638 w3: 0.678 b: 0.009 Cost: 1.319507\n",
            "Epoch  600/1000 w1: 0.699 w2: 0.633 w3: 0.679 b: 0.009 Cost: 1.266222\n",
            "Epoch  700/1000 w1: 0.704 w2: 0.627 w3: 0.679 b: 0.009 Cost: 1.215703\n",
            "Epoch  800/1000 w1: 0.709 w2: 0.622 w3: 0.679 b: 0.009 Cost: 1.167810\n",
            "Epoch  900/1000 w1: 0.713 w2: 0.617 w3: 0.680 b: 0.009 Cost: 1.122429\n",
            "Epoch 1000/1000 w1: 0.718 w2: 0.613 w3: 0.680 b: 0.009 Cost: 1.079390\n"
          ],
          "name": "stdout"
        }
      ]
    },
    {
      "cell_type": "markdown",
      "metadata": {
        "id": "dbj7ORjMAU4P"
      },
      "source": [
        "## 행렬 연산을 고려하여 파이토치로 구현하기\r\n",
        "행은 sample을 의미하고, 열은 feature를 의미  \r\n",
        "따라서 행의 개수는 sample의 개수, 열의 개수는 feature의 개수"
      ]
    },
    {
      "cell_type": "code",
      "metadata": {
        "id": "Jj9NumbUAU6O"
      },
      "source": [
        "#훈련데이터 행렬로 선언\r\n",
        "x_train=torch.FloatTensor([[73, 80, 75],\r\n",
        "                           [93, 88, 93],\r\n",
        "                           [89, 91, 90],\r\n",
        "                           [96, 98, 100],\r\n",
        "                           [73, 66, 70]])\r\n",
        "y_train=torch.FloatTensor([[152], [185], [180], [196], [142]])"
      ],
      "execution_count": null,
      "outputs": []
    },
    {
      "cell_type": "code",
      "metadata": {
        "id": "GNJOMOCHAU89"
      },
      "source": [
        "# 가중치와 편향 선언\r\n",
        "W = torch.zeros((3, 1), requires_grad=True)\r\n",
        "b = torch.zeros(1, requires_grad=True)"
      ],
      "execution_count": null,
      "outputs": []
    },
    {
      "cell_type": "code",
      "metadata": {
        "colab": {
          "base_uri": "https://localhost:8080/"
        },
        "id": "aB2ry1fbAU_b",
        "outputId": "5922da7c-0a3b-4d8d-f1c0-c32e59b7d625"
      },
      "source": [
        "nb_epochs=20\r\n",
        "for epoch in range(nb_epochs+1):\r\n",
        "    # H(x) 계산\r\n",
        "    # 편향 b는 브로드 캐스팅되어 각 샘플에 더해집니다.\r\n",
        "    hypothesis = x_train.matmul(W) + b\r\n",
        "\r\n",
        "    # cost 계산\r\n",
        "    cost = torch.mean((hypothesis - y_train) ** 2)\r\n",
        "\r\n",
        "    # cost로 H(x) 개선\r\n",
        "    optimizer.zero_grad()\r\n",
        "    cost.backward()\r\n",
        "    optimizer.step()\r\n",
        "\r\n",
        "    # 100번마다 로그 출력\r\n",
        "    print('Epoch {:4d}/{} hypothesis: {} Cost: {:.6f}'.format(\r\n",
        "        epoch, nb_epochs, hypothesis.squeeze().detach(), cost.item()\r\n",
        "    ))"
      ],
      "execution_count": null,
      "outputs": [
        {
          "output_type": "stream",
          "text": [
            "Epoch    0/20 hypothesis: tensor([0., 0., 0., 0., 0.]) Cost: 29661.800781\n",
            "Epoch    1/20 hypothesis: tensor([0., 0., 0., 0., 0.]) Cost: 29661.800781\n",
            "Epoch    2/20 hypothesis: tensor([0., 0., 0., 0., 0.]) Cost: 29661.800781\n",
            "Epoch    3/20 hypothesis: tensor([0., 0., 0., 0., 0.]) Cost: 29661.800781\n",
            "Epoch    4/20 hypothesis: tensor([0., 0., 0., 0., 0.]) Cost: 29661.800781\n",
            "Epoch    5/20 hypothesis: tensor([0., 0., 0., 0., 0.]) Cost: 29661.800781\n",
            "Epoch    6/20 hypothesis: tensor([0., 0., 0., 0., 0.]) Cost: 29661.800781\n",
            "Epoch    7/20 hypothesis: tensor([0., 0., 0., 0., 0.]) Cost: 29661.800781\n",
            "Epoch    8/20 hypothesis: tensor([0., 0., 0., 0., 0.]) Cost: 29661.800781\n",
            "Epoch    9/20 hypothesis: tensor([0., 0., 0., 0., 0.]) Cost: 29661.800781\n",
            "Epoch   10/20 hypothesis: tensor([0., 0., 0., 0., 0.]) Cost: 29661.800781\n",
            "Epoch   11/20 hypothesis: tensor([0., 0., 0., 0., 0.]) Cost: 29661.800781\n",
            "Epoch   12/20 hypothesis: tensor([0., 0., 0., 0., 0.]) Cost: 29661.800781\n",
            "Epoch   13/20 hypothesis: tensor([0., 0., 0., 0., 0.]) Cost: 29661.800781\n",
            "Epoch   14/20 hypothesis: tensor([0., 0., 0., 0., 0.]) Cost: 29661.800781\n",
            "Epoch   15/20 hypothesis: tensor([0., 0., 0., 0., 0.]) Cost: 29661.800781\n",
            "Epoch   16/20 hypothesis: tensor([0., 0., 0., 0., 0.]) Cost: 29661.800781\n",
            "Epoch   17/20 hypothesis: tensor([0., 0., 0., 0., 0.]) Cost: 29661.800781\n",
            "Epoch   18/20 hypothesis: tensor([0., 0., 0., 0., 0.]) Cost: 29661.800781\n",
            "Epoch   19/20 hypothesis: tensor([0., 0., 0., 0., 0.]) Cost: 29661.800781\n",
            "Epoch   20/20 hypothesis: tensor([0., 0., 0., 0., 0.]) Cost: 29661.800781\n"
          ],
          "name": "stdout"
        }
      ]
    }
  ]
}