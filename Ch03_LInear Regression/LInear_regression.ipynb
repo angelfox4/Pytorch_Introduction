{
  "nbformat": 4,
  "nbformat_minor": 0,
  "metadata": {
    "colab": {
      "name": "LInear regression.ipynb",
      "provenance": [],
      "authorship_tag": "ABX9TyNJHYXItV4ANMgKzljQ+gy6",
      "include_colab_link": true
    },
    "kernelspec": {
      "name": "python3",
      "display_name": "Python 3"
    }
  },
  "cells": [
    {
      "cell_type": "markdown",
      "metadata": {
        "id": "view-in-github",
        "colab_type": "text"
      },
      "source": [
        "<a href=\"https://colab.research.google.com/github/angelfox4/Pytorch_Introduction/blob/main/LInear_regression.ipynb\" target=\"_parent\"><img src=\"https://colab.research.google.com/assets/colab-badge.svg\" alt=\"Open In Colab\"/></a>"
      ]
    },
    {
      "cell_type": "markdown",
      "metadata": {
        "id": "NcFDSzhOifvT"
      },
      "source": [
        "# PyTorch로 선형회귀 구현\r\n",
        "Cost function : MSE  \r\n",
        "Optimizer : Gradient descent"
      ]
    },
    {
      "cell_type": "markdown",
      "metadata": {
        "id": "lyIemMnBiuwJ"
      },
      "source": [
        "1.기본 셋팅"
      ]
    },
    {
      "cell_type": "code",
      "metadata": {
        "colab": {
          "base_uri": "https://localhost:8080/"
        },
        "id": "TwCCUNZAh-FJ",
        "outputId": "5e5f51f9-ad9b-49c5-dbd7-5b4f5ecbf12b"
      },
      "source": [
        "import numpy as np\r\n",
        "import torch\r\n",
        "import torch.nn as nn\r\n",
        "import torch.nn.functional as F\r\n",
        "import torch.optim as optim\r\n",
        "torch.manual_seed(1)"
      ],
      "execution_count": null,
      "outputs": [
        {
          "output_type": "execute_result",
          "data": {
            "text/plain": [
              "<torch._C.Generator at 0x7ff71e3c5b58>"
            ]
          },
          "metadata": {
            "tags": []
          },
          "execution_count": 3
        }
      ]
    },
    {
      "cell_type": "markdown",
      "metadata": {
        "id": "8OZq5RZaixo3"
      },
      "source": [
        "2. 변수 선언"
      ]
    },
    {
      "cell_type": "code",
      "metadata": {
        "id": "gYX_H4CoiACp"
      },
      "source": [
        "x_train=torch.FloatTensor([[1],[2],[3]])\r\n",
        "y_train=torch.FloatTensor(([2],[4],[6]))"
      ],
      "execution_count": null,
      "outputs": []
    },
    {
      "cell_type": "markdown",
      "metadata": {
        "id": "1R3n-pq9iAHN"
      },
      "source": [
        "3. 가중치와 편향의 초기화"
      ]
    },
    {
      "cell_type": "code",
      "metadata": {
        "colab": {
          "base_uri": "https://localhost:8080/"
        },
        "id": "xwD_aXyTiAJX",
        "outputId": "20ebd603-bb29-4063-d698-b0a98eea30b4"
      },
      "source": [
        "#가중치 W를 0으로 초기화하고 학습을 통해 값이 변경되는 변수임을 명시\r\n",
        "W=torch.zeros(1, requires_grad=True)\r\n",
        "print(W)"
      ],
      "execution_count": null,
      "outputs": [
        {
          "output_type": "stream",
          "text": [
            "tensor([0.], requires_grad=True)\n"
          ],
          "name": "stdout"
        }
      ]
    },
    {
      "cell_type": "code",
      "metadata": {
        "colab": {
          "base_uri": "https://localhost:8080/"
        },
        "id": "yn4ofUsAiAL2",
        "outputId": "de083ee2-f7ba-4685-cdaf-2b65ca201f39"
      },
      "source": [
        "b=torch.zeros(1, requires_grad=True)\r\n",
        "print(b)"
      ],
      "execution_count": null,
      "outputs": [
        {
          "output_type": "stream",
          "text": [
            "tensor([0.], requires_grad=True)\n"
          ],
          "name": "stdout"
        }
      ]
    },
    {
      "cell_type": "markdown",
      "metadata": {
        "id": "NVLWwhkjiAOE"
      },
      "source": [
        "4. 가설 세우기"
      ]
    },
    {
      "cell_type": "code",
      "metadata": {
        "colab": {
          "base_uri": "https://localhost:8080/"
        },
        "id": "IfbyDINriAQZ",
        "outputId": "9b0bb68b-8c80-448c-e6b7-6a487f693375"
      },
      "source": [
        "hypothesis=x_train*W+b\r\n",
        "print(hypothesis)"
      ],
      "execution_count": null,
      "outputs": [
        {
          "output_type": "stream",
          "text": [
            "tensor([[0.],\n",
            "        [0.],\n",
            "        [0.]], grad_fn=<AddBackward0>)\n"
          ],
          "name": "stdout"
        }
      ]
    },
    {
      "cell_type": "markdown",
      "metadata": {
        "id": "4ji-0EXriASq"
      },
      "source": [
        "5. 비용 함수 선언하기"
      ]
    },
    {
      "cell_type": "code",
      "metadata": {
        "colab": {
          "base_uri": "https://localhost:8080/"
        },
        "id": "Div3VhshiAVD",
        "outputId": "0cc0a872-cedc-4f66-b0f0-c1b15bc82e14"
      },
      "source": [
        "cost=torch.mean((hypothesis-y_train)**2)\r\n",
        "print(cost)"
      ],
      "execution_count": null,
      "outputs": [
        {
          "output_type": "stream",
          "text": [
            "tensor(18.6667, grad_fn=<MeanBackward0>)\n"
          ],
          "name": "stdout"
        }
      ]
    },
    {
      "cell_type": "markdown",
      "metadata": {
        "id": "Vm9e2XPEiAXo"
      },
      "source": [
        "6. Optimizer 설정"
      ]
    },
    {
      "cell_type": "code",
      "metadata": {
        "id": "-p0_3yfLiAZ9"
      },
      "source": [
        "optimizer=optim.SGD([W,b],lr=0.01)"
      ],
      "execution_count": null,
      "outputs": []
    },
    {
      "cell_type": "markdown",
      "metadata": {
        "id": "aaSwcb55iAch"
      },
      "source": [
        "7. 경사하강법 구현"
      ]
    },
    {
      "cell_type": "code",
      "metadata": {
        "colab": {
          "base_uri": "https://localhost:8080/"
        },
        "id": "wNKeFaeJiAes",
        "outputId": "34183643-adfc-41e8-e729-3ab8045990ca"
      },
      "source": [
        "nb_epochs = 2000 # 원하는만큼 경사 하강법을 반복\r\n",
        "for epoch in range(nb_epochs + 1):\r\n",
        "\r\n",
        "    # H(x) 계산\r\n",
        "    hypothesis = x_train * W + b\r\n",
        "\r\n",
        "    # cost 계산\r\n",
        "    cost = torch.mean((hypothesis - y_train) ** 2)\r\n",
        "\r\n",
        "    # cost로 H(x) 개선\r\n",
        "    optimizer.zero_grad() #gradient(W.grad, b.grad)를 0으로 초기화\r\n",
        "    cost.backward() #비용 함수를 미분하여 w, b에 대한 gradient를 계산, w.grad, b.grad가 생성됨\r\n",
        "    optimizer.step() #W와 b를 업데이트(w_new=w_old-alpha*w.grad, b_new=b_old-alpha*b.grad)\r\n",
        "\r\n",
        "    # 100번마다 로그 출력\r\n",
        "    if epoch % 100 == 0:\r\n",
        "        print('Epoch {:4d}/{} W: {:.3f}, b: {:.3f} Cost: {:.6f}'.format(\r\n",
        "            epoch, nb_epochs, W.item(), b.item(), cost.item()\r\n",
        "        ))"
      ],
      "execution_count": null,
      "outputs": [
        {
          "output_type": "stream",
          "text": [
            "Epoch    0/2000 W: 1.997, b: 0.006 Cost: 0.000005\n",
            "Epoch  100/2000 W: 1.998, b: 0.005 Cost: 0.000003\n",
            "Epoch  200/2000 W: 1.998, b: 0.004 Cost: 0.000002\n",
            "Epoch  300/2000 W: 1.999, b: 0.003 Cost: 0.000001\n",
            "Epoch  400/2000 W: 1.999, b: 0.002 Cost: 0.000001\n",
            "Epoch  500/2000 W: 1.999, b: 0.002 Cost: 0.000000\n",
            "Epoch  600/2000 W: 1.999, b: 0.001 Cost: 0.000000\n",
            "Epoch  700/2000 W: 2.000, b: 0.001 Cost: 0.000000\n",
            "Epoch  800/2000 W: 2.000, b: 0.001 Cost: 0.000000\n",
            "Epoch  900/2000 W: 2.000, b: 0.001 Cost: 0.000000\n",
            "Epoch 1000/2000 W: 2.000, b: 0.001 Cost: 0.000000\n",
            "Epoch 1100/2000 W: 2.000, b: 0.000 Cost: 0.000000\n",
            "Epoch 1200/2000 W: 2.000, b: 0.000 Cost: 0.000000\n",
            "Epoch 1300/2000 W: 2.000, b: 0.000 Cost: 0.000000\n",
            "Epoch 1400/2000 W: 2.000, b: 0.000 Cost: 0.000000\n",
            "Epoch 1500/2000 W: 2.000, b: 0.000 Cost: 0.000000\n",
            "Epoch 1600/2000 W: 2.000, b: 0.000 Cost: 0.000000\n",
            "Epoch 1700/2000 W: 2.000, b: 0.000 Cost: 0.000000\n",
            "Epoch 1800/2000 W: 2.000, b: 0.000 Cost: 0.000000\n",
            "Epoch 1900/2000 W: 2.000, b: 0.000 Cost: 0.000000\n",
            "Epoch 2000/2000 W: 2.000, b: 0.000 Cost: 0.000000\n"
          ],
          "name": "stdout"
        }
      ]
    },
    {
      "cell_type": "markdown",
      "metadata": {
        "id": "-iVxDZC2iAkI"
      },
      "source": [
        "8. optimizer.zero_grad()가 필요한 이유  \r\n",
        "파이토치는 미분을 통해 얻은 기울기를 이전에 계산된 기울기 값에 누적시키는 특징이 있기 때문에"
      ]
    },
    {
      "cell_type": "code",
      "metadata": {
        "colab": {
          "base_uri": "https://localhost:8080/"
        },
        "id": "tG-FwDebmf1p",
        "outputId": "e28081a7-8aa8-4c14-8296-d517ee33b55b"
      },
      "source": [
        "import torch\r\n",
        "w=torch.tensor(2.0, requires_grad=True)\r\n",
        "\r\n",
        "nb_epochs=20\r\n",
        "for epoch in range(nb_epochs+1):\r\n",
        "\r\n",
        "  z=2*w\r\n",
        "\r\n",
        "  z.backward()\r\n",
        "  print('수식을 w로 미분한 값 : {}'.format(w.grad))\r\n"
      ],
      "execution_count": null,
      "outputs": [
        {
          "output_type": "stream",
          "text": [
            "수식을 w로 미분한 값 : 2.0\n",
            "수식을 w로 미분한 값 : 4.0\n",
            "수식을 w로 미분한 값 : 6.0\n",
            "수식을 w로 미분한 값 : 8.0\n",
            "수식을 w로 미분한 값 : 10.0\n",
            "수식을 w로 미분한 값 : 12.0\n",
            "수식을 w로 미분한 값 : 14.0\n",
            "수식을 w로 미분한 값 : 16.0\n",
            "수식을 w로 미분한 값 : 18.0\n",
            "수식을 w로 미분한 값 : 20.0\n",
            "수식을 w로 미분한 값 : 22.0\n",
            "수식을 w로 미분한 값 : 24.0\n",
            "수식을 w로 미분한 값 : 26.0\n",
            "수식을 w로 미분한 값 : 28.0\n",
            "수식을 w로 미분한 값 : 30.0\n",
            "수식을 w로 미분한 값 : 32.0\n",
            "수식을 w로 미분한 값 : 34.0\n",
            "수식을 w로 미분한 값 : 36.0\n",
            "수식을 w로 미분한 값 : 38.0\n",
            "수식을 w로 미분한 값 : 40.0\n",
            "수식을 w로 미분한 값 : 42.0\n"
          ],
          "name": "stdout"
        }
      ]
    },
    {
      "cell_type": "code",
      "metadata": {
        "id": "fJ3YVhuSmf5B"
      },
      "source": [
        ""
      ],
      "execution_count": null,
      "outputs": []
    },
    {
      "cell_type": "code",
      "metadata": {
        "id": "6s8J-UXTmf7l"
      },
      "source": [
        ""
      ],
      "execution_count": null,
      "outputs": []
    },
    {
      "cell_type": "code",
      "metadata": {
        "id": "lPrIgVPYmf9l"
      },
      "source": [
        ""
      ],
      "execution_count": null,
      "outputs": []
    },
    {
      "cell_type": "code",
      "metadata": {
        "id": "MGG08qcHiAnE"
      },
      "source": [
        ""
      ],
      "execution_count": null,
      "outputs": []
    },
    {
      "cell_type": "code",
      "metadata": {
        "id": "t3-nq7ZkiAo7"
      },
      "source": [
        ""
      ],
      "execution_count": null,
      "outputs": []
    },
    {
      "cell_type": "code",
      "metadata": {
        "id": "5fSM4e38iAre"
      },
      "source": [
        ""
      ],
      "execution_count": null,
      "outputs": []
    }
  ]
}