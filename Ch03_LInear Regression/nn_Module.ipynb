{
  "nbformat": 4,
  "nbformat_minor": 0,
  "metadata": {
    "colab": {
      "name": "nn.Module.ipynb",
      "provenance": [],
      "collapsed_sections": [],
      "authorship_tag": "ABX9TyNSE81S4n82S0EhagdlcTRO",
      "include_colab_link": true
    },
    "kernelspec": {
      "name": "python3",
      "display_name": "Python 3"
    }
  },
  "cells": [
    {
      "cell_type": "markdown",
      "metadata": {
        "id": "view-in-github",
        "colab_type": "text"
      },
      "source": [
        "<a href=\"https://colab.research.google.com/github/angelfox4/Pytorch_Introduction/blob/main/nn_Module.ipynb\" target=\"_parent\"><img src=\"https://colab.research.google.com/assets/colab-badge.svg\" alt=\"Open In Colab\"/></a>"
      ]
    },
    {
      "cell_type": "markdown",
      "metadata": {
        "id": "_47ppsP3EvRA"
      },
      "source": [
        "# nn.Module로 구현하는 선형 회귀"
      ]
    },
    {
      "cell_type": "code",
      "metadata": {
        "id": "lFN2VVwIEns2"
      },
      "source": [
        "import torch\r\n",
        "import torch.nn as nn\r\n",
        "import torch.nn.functional as F"
      ],
      "execution_count": null,
      "outputs": []
    },
    {
      "cell_type": "code",
      "metadata": {
        "colab": {
          "base_uri": "https://localhost:8080/"
        },
        "id": "nlwrzh6mEtYJ",
        "outputId": "c750ac0c-8bf5-44e7-cd47-b3fcfd1ec955"
      },
      "source": [
        "torch.manual_seed(1)"
      ],
      "execution_count": null,
      "outputs": [
        {
          "output_type": "execute_result",
          "data": {
            "text/plain": [
              "<torch._C.Generator at 0x7fa88f4ebb70>"
            ]
          },
          "metadata": {
            "tags": []
          },
          "execution_count": 2
        }
      ]
    },
    {
      "cell_type": "markdown",
      "metadata": {
        "id": "RykVPL8fH7X-"
      },
      "source": [
        "## nn.Module로 구현하는 단순선형 회귀"
      ]
    },
    {
      "cell_type": "code",
      "metadata": {
        "id": "SJlGnLlCEtbc"
      },
      "source": [
        "# 데이터, y=2x가 정답\r\n",
        "x_train = torch.FloatTensor([[1], [2], [3]])\r\n",
        "y_train = torch.FloatTensor([[2], [4], [6]])"
      ],
      "execution_count": null,
      "outputs": []
    },
    {
      "cell_type": "code",
      "metadata": {
        "id": "gm4PAZlOEtdJ"
      },
      "source": [
        "#모델을 선언 및 초기화, 단순선형회귀이므로 input_dim=1, output_dim=1\r\n",
        "#하나의 입력 x에 대해서 하나의 출력 y을 가지므로 입력 차원고 출력 차원 모두 1을 인수로 사용\r\n",
        "model=nn.Linear(1,1)"
      ],
      "execution_count": null,
      "outputs": []
    },
    {
      "cell_type": "code",
      "metadata": {
        "colab": {
          "base_uri": "https://localhost:8080/"
        },
        "id": "_lxv1uhOEtfM",
        "outputId": "1b0e330d-b995-4f27-dbe7-9b7c55674621"
      },
      "source": [
        "print(list(model.parameters())) #랜덤 초기값, 자동미분이 되므로 requires_grad=True"
      ],
      "execution_count": null,
      "outputs": [
        {
          "output_type": "stream",
          "text": [
            "[Parameter containing:\n",
            "tensor([[0.5153]], requires_grad=True), Parameter containing:\n",
            "tensor([-0.4414], requires_grad=True)]\n"
          ],
          "name": "stdout"
        }
      ]
    },
    {
      "cell_type": "code",
      "metadata": {
        "id": "IMwfqADJEtif"
      },
      "source": [
        "#optimizer 설정, 경사 하강법 SGD를 사용하고, learning rate를 의미하는 lr은 0.01\r\n",
        "optimizer=torch.optim.SGD(model.parameters(),lr=0.01)"
      ],
      "execution_count": null,
      "outputs": []
    },
    {
      "cell_type": "code",
      "metadata": {
        "colab": {
          "base_uri": "https://localhost:8080/"
        },
        "id": "N-m4LyzkEtkJ",
        "outputId": "0e26e3c6-4efb-401e-c6fe-7787b7b535c2"
      },
      "source": [
        "#PyTorch로 구현\r\n",
        "nb_epochs=2000\r\n",
        "for epoch in range(nb_epochs+1):\r\n",
        "\r\n",
        "  #H(x) 계산\r\n",
        "  prediction=model(x_train)\r\n",
        "\r\n",
        "  #cost 계산\r\n",
        "  cost=F.mse_loss(prediction, y_train) #PyTorch에서 제공하는 MSE 함수\r\n",
        "\r\n",
        "  optimizer.zero_grad()\r\n",
        "  cost.backward()\r\n",
        "  optimizer.step()\r\n",
        "\r\n",
        "  if epoch % 100 ==0:\r\n",
        "    print('Epoch {:4d}/{} Cost: {:.6f}'.format(\r\n",
        "          epoch, nb_epochs, cost.item()\r\n",
        "      ))    "
      ],
      "execution_count": null,
      "outputs": [
        {
          "output_type": "stream",
          "text": [
            "Epoch    0/2000 Cost: 13.103541\n",
            "Epoch  100/2000 Cost: 0.002791\n",
            "Epoch  200/2000 Cost: 0.001724\n",
            "Epoch  300/2000 Cost: 0.001066\n",
            "Epoch  400/2000 Cost: 0.000658\n",
            "Epoch  500/2000 Cost: 0.000407\n",
            "Epoch  600/2000 Cost: 0.000251\n",
            "Epoch  700/2000 Cost: 0.000155\n",
            "Epoch  800/2000 Cost: 0.000096\n",
            "Epoch  900/2000 Cost: 0.000059\n",
            "Epoch 1000/2000 Cost: 0.000037\n",
            "Epoch 1100/2000 Cost: 0.000023\n",
            "Epoch 1200/2000 Cost: 0.000014\n",
            "Epoch 1300/2000 Cost: 0.000009\n",
            "Epoch 1400/2000 Cost: 0.000005\n",
            "Epoch 1500/2000 Cost: 0.000003\n",
            "Epoch 1600/2000 Cost: 0.000002\n",
            "Epoch 1700/2000 Cost: 0.000001\n",
            "Epoch 1800/2000 Cost: 0.000001\n",
            "Epoch 1900/2000 Cost: 0.000000\n",
            "Epoch 2000/2000 Cost: 0.000000\n"
          ],
          "name": "stdout"
        }
      ]
    },
    {
      "cell_type": "code",
      "metadata": {
        "colab": {
          "base_uri": "https://localhost:8080/"
        },
        "id": "eYihGasMEtm7",
        "outputId": "720c2b6a-57b1-465d-92ca-d26dee0baf29"
      },
      "source": [
        "#W, b의 값이 최적화되었는지 확인\r\n",
        "new_var=torch.FloatTensor([[4.0]])\r\n",
        "pred_y=model(new_var)\r\n",
        "print(pred_y) #참값인 8과 비슷하게 나오는 것을 확인할 수 있음"
      ],
      "execution_count": null,
      "outputs": [
        {
          "output_type": "stream",
          "text": [
            "tensor([[7.9989]], grad_fn=<AddmmBackward>)\n"
          ],
          "name": "stdout"
        }
      ]
    },
    {
      "cell_type": "markdown",
      "metadata": {
        "id": "coLesN-UEtpD"
      },
      "source": [
        "## nn.Module로 구현하는 다중선형회귀\r\n",
        "단순선형회귀와 model의 인자값만 다름"
      ]
    },
    {
      "cell_type": "code",
      "metadata": {
        "id": "LpwB_12nEtrb"
      },
      "source": [
        "# 데이터\r\n",
        "x_train = torch.FloatTensor([[73, 80, 75],\r\n",
        "                             [93, 88, 93],\r\n",
        "                             [89, 91, 90],\r\n",
        "                             [96, 98, 100],\r\n",
        "                             [73, 66, 70]])\r\n",
        "y_train = torch.FloatTensor([[152], [185], [180], [196], [142]])"
      ],
      "execution_count": null,
      "outputs": []
    },
    {
      "cell_type": "code",
      "metadata": {
        "id": "1wLOlp7iIIQC"
      },
      "source": [
        "# 모델을 선언 및 초기화. 다중 선형 회귀이므로 input_dim=3, output_dim=1.\r\n",
        "# 3개의 입력 x에 대해서 하나의 출력 y를 가지므로\r\n",
        "model = nn.Linear(3,1)"
      ],
      "execution_count": null,
      "outputs": []
    },
    {
      "cell_type": "code",
      "metadata": {
        "colab": {
          "base_uri": "https://localhost:8080/"
        },
        "id": "wkKQHGqWIIRy",
        "outputId": "8a3c9cbf-c534-4093-9aed-c77dd6c9314c"
      },
      "source": [
        "print(list(model.parameters()))"
      ],
      "execution_count": null,
      "outputs": [
        {
          "output_type": "stream",
          "text": [
            "[Parameter containing:\n",
            "tensor([[-0.1119,  0.2710, -0.5435]], requires_grad=True), Parameter containing:\n",
            "tensor([0.3462], requires_grad=True)]\n"
          ],
          "name": "stdout"
        }
      ]
    },
    {
      "cell_type": "code",
      "metadata": {
        "id": "55ii9OsNIIUY"
      },
      "source": [
        "optimizer = torch.optim.SGD(model.parameters(), lr=1e-5) "
      ],
      "execution_count": null,
      "outputs": []
    },
    {
      "cell_type": "code",
      "metadata": {
        "colab": {
          "base_uri": "https://localhost:8080/"
        },
        "id": "G0R_OUMpIIWb",
        "outputId": "7671b10e-7777-4fd9-ba35-e56582546644"
      },
      "source": [
        "nb_epochs = 2000\r\n",
        "for epoch in range(nb_epochs+1):\r\n",
        "\r\n",
        "    # H(x) 계산\r\n",
        "    prediction = model(x_train)\r\n",
        "    # model(x_train)은 model.forward(x_train)와 동일함.\r\n",
        "\r\n",
        "    # cost 계산\r\n",
        "    cost = F.mse_loss(prediction, y_train) # <== 파이토치에서 제공하는 평균 제곱 오차 함수\r\n",
        "\r\n",
        "    # cost로 H(x) 개선하는 부분\r\n",
        "    # gradient를 0으로 초기화\r\n",
        "    optimizer.zero_grad()\r\n",
        "    # 비용 함수를 미분하여 gradient 계산\r\n",
        "    cost.backward()\r\n",
        "    # W와 b를 업데이트\r\n",
        "    optimizer.step()\r\n",
        "\r\n",
        "    if epoch % 100 == 0:\r\n",
        "    # 100번마다 로그 출력\r\n",
        "      print('Epoch {:4d}/{} Cost: {:.6f}'.format(\r\n",
        "          epoch, nb_epochs, cost.item()\r\n",
        "      ))"
      ],
      "execution_count": null,
      "outputs": [
        {
          "output_type": "stream",
          "text": [
            "Epoch    0/2000 Cost: 42134.707031\n",
            "Epoch  100/2000 Cost: 5.960053\n",
            "Epoch  200/2000 Cost: 5.654689\n",
            "Epoch  300/2000 Cost: 5.365413\n",
            "Epoch  400/2000 Cost: 5.091413\n",
            "Epoch  500/2000 Cost: 4.831831\n",
            "Epoch  600/2000 Cost: 4.585963\n",
            "Epoch  700/2000 Cost: 4.353061\n",
            "Epoch  800/2000 Cost: 4.132451\n",
            "Epoch  900/2000 Cost: 3.923452\n",
            "Epoch 1000/2000 Cost: 3.725488\n",
            "Epoch 1100/2000 Cost: 3.537961\n",
            "Epoch 1200/2000 Cost: 3.360339\n",
            "Epoch 1300/2000 Cost: 3.192085\n",
            "Epoch 1400/2000 Cost: 3.032697\n",
            "Epoch 1500/2000 Cost: 2.881700\n",
            "Epoch 1600/2000 Cost: 2.738672\n",
            "Epoch 1700/2000 Cost: 2.603207\n",
            "Epoch 1800/2000 Cost: 2.474846\n",
            "Epoch 1900/2000 Cost: 2.353291\n",
            "Epoch 2000/2000 Cost: 2.238137\n"
          ],
          "name": "stdout"
        }
      ]
    },
    {
      "cell_type": "code",
      "metadata": {
        "colab": {
          "base_uri": "https://localhost:8080/"
        },
        "id": "R4eVspwNIIZd",
        "outputId": "d3b2632d-f422-4042-8f05-e6f9c2a7d16f"
      },
      "source": [
        "# 임의의 입력 [73, 80, 75]를 선언\r\n",
        "new_var =  torch.FloatTensor([[73, 80, 75]]) \r\n",
        "# 입력한 값 [73, 80, 75]에 대해서 예측값 y를 리턴받아서 pred_y에 저장\r\n",
        "pred_y = model(new_var) \r\n",
        "print(\"훈련 후 입력이 73, 80, 75일 때의 예측값 :\", pred_y)  #참값인 152와 가깝게 나옴"
      ],
      "execution_count": null,
      "outputs": [
        {
          "output_type": "stream",
          "text": [
            "훈련 후 입력이 73, 80, 75일 때의 예측값 : tensor([[153.7184]], grad_fn=<AddmmBackward>)\n"
          ],
          "name": "stdout"
        }
      ]
    },
    {
      "cell_type": "code",
      "metadata": {
        "colab": {
          "base_uri": "https://localhost:8080/"
        },
        "id": "4Qf1TgZ2IIby",
        "outputId": "1ea26481-a105-4f1e-a705-dc0ae68dd49d"
      },
      "source": [
        "print(list(model.parameters()))"
      ],
      "execution_count": null,
      "outputs": [
        {
          "output_type": "stream",
          "text": [
            "[Parameter containing:\n",
            "tensor([[0.8541, 0.8475, 0.3096]], requires_grad=True), Parameter containing:\n",
            "tensor([0.3568], requires_grad=True)]\n"
          ],
          "name": "stdout"
        }
      ]
    }
  ]
}