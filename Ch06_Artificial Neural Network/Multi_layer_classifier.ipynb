{
  "nbformat": 4,
  "nbformat_minor": 0,
  "metadata": {
    "colab": {
      "name": "Multi_layer_classifier.ipynb",
      "provenance": [],
      "authorship_tag": "ABX9TyNoBAPPwYEeEuMArNvFzh4x",
      "include_colab_link": true
    },
    "kernelspec": {
      "name": "python3",
      "display_name": "Python 3"
    }
  },
  "cells": [
    {
      "cell_type": "markdown",
      "metadata": {
        "id": "view-in-github",
        "colab_type": "text"
      },
      "source": [
        "<a href=\"https://colab.research.google.com/github/angelfox4/Pytorch_Introduction/blob/main/Multi_layer_classifier.ipynb\" target=\"_parent\"><img src=\"https://colab.research.google.com/assets/colab-badge.svg\" alt=\"Open In Colab\"/></a>"
      ]
    },
    {
      "cell_type": "markdown",
      "metadata": {
        "id": "u1I0z4pkgPs1"
      },
      "source": [
        "##  다층 퍼셉트론으로 손글씨 분류하기"
      ]
    },
    {
      "cell_type": "code",
      "metadata": {
        "id": "WEW0tTvxgUQE"
      },
      "source": [
        "import torch\r\n",
        "import torch.nn as nn\r\n",
        "from torch import optim\r\n",
        "\r\n",
        "%matplotlib inline\r\n",
        "import matplotlib.pyplot as plt \r\n",
        "from sklearn.datasets import load_digits #0부터 9까지의 8*8 손필기 데이터셋\r\n",
        "digits=load_digits() #1,979개의 이미지 데이터 로드"
      ],
      "execution_count": 7,
      "outputs": []
    },
    {
      "cell_type": "code",
      "metadata": {
        "colab": {
          "base_uri": "https://localhost:8080/"
        },
        "id": "7E1zGIGJgUSx",
        "outputId": "c71fcd51-8b92-40c1-ee21-f4a9eb67b4f5"
      },
      "source": [
        "print(digits.images[0]) #8*8 이미지행렬"
      ],
      "execution_count": 2,
      "outputs": [
        {
          "output_type": "stream",
          "text": [
            "[[ 0.  0.  5. 13.  9.  1.  0.  0.]\n",
            " [ 0.  0. 13. 15. 10. 15.  5.  0.]\n",
            " [ 0.  3. 15.  2.  0. 11.  8.  0.]\n",
            " [ 0.  4. 12.  0.  0.  8.  8.  0.]\n",
            " [ 0.  5.  8.  0.  0.  9.  8.  0.]\n",
            " [ 0.  4. 11.  0.  1. 12.  7.  0.]\n",
            " [ 0.  2. 14.  5. 10. 12.  0.  0.]\n",
            " [ 0.  0.  6. 13. 10.  0.  0.  0.]]\n"
          ],
          "name": "stdout"
        }
      ]
    },
    {
      "cell_type": "code",
      "metadata": {
        "colab": {
          "base_uri": "https://localhost:8080/"
        },
        "id": "3xR7H28ogUWh",
        "outputId": "d63e3a6b-aa06-428f-c829-5e2b4ed5c9ce"
      },
      "source": [
        "print(digits.target[0]) #라벨"
      ],
      "execution_count": 3,
      "outputs": [
        {
          "output_type": "stream",
          "text": [
            "0\n"
          ],
          "name": "stdout"
        }
      ]
    },
    {
      "cell_type": "code",
      "metadata": {
        "colab": {
          "base_uri": "https://localhost:8080/"
        },
        "id": "C4oKxv8OgUd0",
        "outputId": "f18ac3a7-4313-4f82-992a-e181ebe498b1"
      },
      "source": [
        "len(digits.images) #샘플의 개수"
      ],
      "execution_count": 4,
      "outputs": [
        {
          "output_type": "execute_result",
          "data": {
            "text/plain": [
              "1797"
            ]
          },
          "metadata": {
            "tags": []
          },
          "execution_count": 4
        }
      ]
    },
    {
      "cell_type": "code",
      "metadata": {
        "colab": {
          "base_uri": "https://localhost:8080/",
          "height": 105
        },
        "id": "P6kMQfv2gUhX",
        "outputId": "e310fe4a-43df-428d-c950-16e72f91c70d"
      },
      "source": [
        "images_and_labels = list(zip(digits.images, digits.target))\r\n",
        "for index, (image, label) in enumerate(images_and_labels[:5]): # 5개의 샘플만 출력\r\n",
        "    plt.subplot(2, 5, index + 1)\r\n",
        "    plt.axis('off')\r\n",
        "    plt.imshow(image, cmap=plt.cm.gray_r, interpolation='nearest')\r\n",
        "    plt.title('sample: %i' % label)"
      ],
      "execution_count": 5,
      "outputs": [
        {
          "output_type": "display_data",
          "data": {
            "image/png": "[encoded data removed]",
            "text/plain": [
              "<Figure size 432x288 with 5 Axes>"
            ]
          },
          "metadata": {
            "tags": [],
            "needs_background": "light"
          }
        }
      ]
    },
    {
      "cell_type": "markdown",
      "metadata": {
        "id": "F1L9gtrKi8iZ"
      },
      "source": [
        "## 다층 퍼셉트론으로 분류기 만들기"
      ]
    },
    {
      "cell_type": "code",
      "metadata": {
        "id": "MOWQFIFHgUkb"
      },
      "source": [
        "#훈련데이터 지정\r\n",
        "X=digits.data #이미지, N(샘플개수)*64형식으로 되어 있음\r\n",
        "Y=digits.target #각 이미지에 대한 레이블"
      ],
      "execution_count": 6,
      "outputs": []
    },
    {
      "cell_type": "code",
      "metadata": {
        "id": "Soo3ofewgUnW"
      },
      "source": [
        "model=nn.Sequential(\r\n",
        "    nn.Linear(64,32),\r\n",
        "    nn.ReLU(),\r\n",
        "    nn.Linear(32,16),\r\n",
        "    nn.ReLU(),\r\n",
        "    nn.Linear(16,10)\r\n",
        ")"
      ],
      "execution_count": 8,
      "outputs": []
    },
    {
      "cell_type": "code",
      "metadata": {
        "id": "EJK85rL-gUqL"
      },
      "source": [
        "X=torch.tensor(X, dtype=torch.float32)\r\n",
        "Y=torch.tensor(Y, dtype=torch.int64)"
      ],
      "execution_count": 9,
      "outputs": []
    },
    {
      "cell_type": "code",
      "metadata": {
        "id": "QGvc__8ugUtF"
      },
      "source": [
        "loss_fn=nn.CrossEntropyLoss() #이 비용함수는 소프트맥스 함수를 포함하고 있음\r\n",
        "optimizer=optim.Adam(model.parameters()) #optimizer로 Adam을 사용함"
      ],
      "execution_count": 11,
      "outputs": []
    },
    {
      "cell_type": "code",
      "metadata": {
        "colab": {
          "base_uri": "https://localhost:8080/"
        },
        "id": "QQiwyMyMgUv5",
        "outputId": "7e150d4a-0fee-4bb1-9e1a-0e5f0ef1ad84"
      },
      "source": [
        "losses=[]\r\n",
        "\r\n",
        "for epoch in range(100):\r\n",
        "  optimizer.zero_grad()\r\n",
        "  y_pred=model(X) #forward 연산\r\n",
        "  loss=loss_fn(y_pred, Y)\r\n",
        "  loss.backward()\r\n",
        "  optimizer.step()\r\n",
        "\r\n",
        "  if epoch % 10 ==0:\r\n",
        "    print('Epoch {:4d}/{} Cost: {:.6f}'.format(epoch, 100, loss.item()))\r\n",
        "  \r\n",
        "  losses.append(loss.item())"
      ],
      "execution_count": 12,
      "outputs": [
        {
          "output_type": "stream",
          "text": [
            "Epoch    0/100 Cost: 2.542062\n",
            "Epoch   10/100 Cost: 2.189538\n",
            "Epoch   20/100 Cost: 1.967741\n",
            "Epoch   30/100 Cost: 1.715410\n",
            "Epoch   40/100 Cost: 1.422349\n",
            "Epoch   50/100 Cost: 1.125995\n",
            "Epoch   60/100 Cost: 0.851459\n",
            "Epoch   70/100 Cost: 0.615265\n",
            "Epoch   80/100 Cost: 0.448407\n",
            "Epoch   90/100 Cost: 0.338694\n"
          ],
          "name": "stdout"
        }
      ]
    },
    {
      "cell_type": "code",
      "metadata": {
        "colab": {
          "base_uri": "https://localhost:8080/",
          "height": 282
        },
        "id": "AKSZKurSgUy5",
        "outputId": "d57f78ec-0d39-47c1-9dd9-fc4d5f93e300"
      },
      "source": [
        "plt.plot(losses)"
      ],
      "execution_count": 13,
      "outputs": [
        {
          "output_type": "execute_result",
          "data": {
            "text/plain": [
              "[<matplotlib.lines.Line2D at 0x7f8dc54256d8>]"
            ]
          },
          "metadata": {
            "tags": []
          },
          "execution_count": 13
        },
        {
          "output_type": "display_data",
          "data": {
            "image/png": "[encoded data removed]",
            "text/plain": [
              "<Figure size 432x288 with 1 Axes>"
            ]
          },
          "metadata": {
            "tags": [],
            "needs_background": "light"
          }
        }
      ]
    }
  ]
}