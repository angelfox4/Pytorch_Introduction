{
  "nbformat": 4,
  "nbformat_minor": 0,
  "metadata": {
    "colab": {
      "name": "class_PyTorch_model.ipynb",
      "provenance": [],
      "collapsed_sections": [],
      "authorship_tag": "ABX9TyND4PjLYiZJFSMakN0b1RHe",
      "include_colab_link": true
    },
    "kernelspec": {
      "name": "python3",
      "display_name": "Python 3"
    }
  },
  "cells": [
    {
      "cell_type": "markdown",
      "metadata": {
        "id": "view-in-github",
        "colab_type": "text"
      },
      "source": [
        "<a href=\"https://colab.research.google.com/github/angelfox4/Pytorch_Introduction/blob/main/class_PyTorch_model.ipynb\" target=\"_parent\"><img src=\"https://colab.research.google.com/assets/colab-badge.svg\" alt=\"Open In Colab\"/></a>"
      ]
    },
    {
      "cell_type": "markdown",
      "metadata": {
        "id": "j_lCTCpUJc3V"
      },
      "source": [
        "# 클래스로 파이토치 모델 구현하기"
      ]
    },
    {
      "cell_type": "markdown",
      "metadata": {
        "id": "kOCiNlvoJcJ_"
      },
      "source": [
        "## 단순 선형 회귀 클래스로 구현하기"
      ]
    },
    {
      "cell_type": "code",
      "metadata": {
        "id": "T_fqciarJc5t"
      },
      "source": [
        "import torch\r\n",
        "import torch.nn as nn\r\n",
        "import torch.nn.functional as F"
      ],
      "execution_count": null,
      "outputs": []
    },
    {
      "cell_type": "code",
      "metadata": {
        "colab": {
          "base_uri": "https://localhost:8080/"
        },
        "id": "NYYzN5tjJc8Y",
        "outputId": "f2787761-4692-498a-8795-2be6107f3199"
      },
      "source": [
        "torch.manual_seed(1)"
      ],
      "execution_count": null,
      "outputs": [
        {
          "output_type": "execute_result",
          "data": {
            "text/plain": [
              "<torch._C.Generator at 0x7f677c2f8b70>"
            ]
          },
          "metadata": {
            "tags": []
          },
          "execution_count": 2
        }
      ]
    },
    {
      "cell_type": "code",
      "metadata": {
        "id": "j3VLO-5lJc_A"
      },
      "source": [
        "# 데이터\r\n",
        "x_train = torch.FloatTensor([[1], [2], [3]])\r\n",
        "y_train = torch.FloatTensor([[2], [4], [6]])"
      ],
      "execution_count": null,
      "outputs": []
    },
    {
      "cell_type": "code",
      "metadata": {
        "id": "bRvBvNTBJdAt"
      },
      "source": [
        "class LInearRegressionModel(nn.Module):\r\n",
        "  def __init__(self):\r\n",
        "    super().__init__()\r\n",
        "    self.linear=nn.Linear(1,1)\r\n",
        "\r\n",
        "  def forward(self, x):\r\n",
        "    return self.linear(x)"
      ],
      "execution_count": null,
      "outputs": []
    },
    {
      "cell_type": "markdown",
      "metadata": {
        "id": "IHsM2PCALPvg"
      },
      "source": [
        "이전의 코드에서  \r\n",
        "model = nn.Linear(1,1)"
      ]
    },
    {
      "cell_type": "code",
      "metadata": {
        "id": "nX96nJ7gJdC9"
      },
      "source": [
        "model=LInearRegressionModel()"
      ],
      "execution_count": null,
      "outputs": []
    },
    {
      "cell_type": "code",
      "metadata": {
        "id": "A7P0gfl3JdFt"
      },
      "source": [
        "# optimizer 설정. 경사 하강법 SGD를 사용하고 learning rate를 의미하는 lr은 0.01\r\n",
        "optimizer = torch.optim.SGD(model.parameters(), lr=0.01) "
      ],
      "execution_count": null,
      "outputs": []
    },
    {
      "cell_type": "code",
      "metadata": {
        "colab": {
          "base_uri": "https://localhost:8080/"
        },
        "id": "XTblQbaAJdIH",
        "outputId": "75588d52-1f58-48e9-e8b7-d87313ff0227"
      },
      "source": [
        "# 전체 훈련 데이터에 대해 경사 하강법을 2,000회 반복\r\n",
        "nb_epochs = 2000\r\n",
        "for epoch in range(nb_epochs+1):\r\n",
        "\r\n",
        "    # H(x) 계산\r\n",
        "    prediction = model(x_train)\r\n",
        "\r\n",
        "    # cost 계산\r\n",
        "    cost = F.mse_loss(prediction, y_train) # <== 파이토치에서 제공하는 평균 제곱 오차 함수\r\n",
        "\r\n",
        "    # cost로 H(x) 개선하는 부분\r\n",
        "    # gradient를 0으로 초기화\r\n",
        "    optimizer.zero_grad()\r\n",
        "    # 비용 함수를 미분하여 gradient 계산\r\n",
        "    cost.backward() # backward 연산\r\n",
        "    # W와 b를 업데이트\r\n",
        "    optimizer.step()\r\n",
        "\r\n",
        "    if epoch % 100 == 0:\r\n",
        "    # 100번마다 로그 출력\r\n",
        "      print('Epoch {:4d}/{} Cost: {:.6f}'.format(\r\n",
        "          epoch, nb_epochs, cost.item()\r\n",
        "      ))"
      ],
      "execution_count": null,
      "outputs": [
        {
          "output_type": "stream",
          "text": [
            "Epoch    0/2000 Cost: 18.562185\n",
            "Epoch  100/2000 Cost: 0.128051\n",
            "Epoch  200/2000 Cost: 0.079128\n",
            "Epoch  300/2000 Cost: 0.048896\n",
            "Epoch  400/2000 Cost: 0.030215\n",
            "Epoch  500/2000 Cost: 0.018671\n",
            "Epoch  600/2000 Cost: 0.011538\n",
            "Epoch  700/2000 Cost: 0.007129\n",
            "Epoch  800/2000 Cost: 0.004406\n",
            "Epoch  900/2000 Cost: 0.002722\n",
            "Epoch 1000/2000 Cost: 0.001682\n",
            "Epoch 1100/2000 Cost: 0.001040\n",
            "Epoch 1200/2000 Cost: 0.000642\n",
            "Epoch 1300/2000 Cost: 0.000397\n",
            "Epoch 1400/2000 Cost: 0.000245\n",
            "Epoch 1500/2000 Cost: 0.000152\n",
            "Epoch 1600/2000 Cost: 0.000094\n",
            "Epoch 1700/2000 Cost: 0.000058\n",
            "Epoch 1800/2000 Cost: 0.000036\n",
            "Epoch 1900/2000 Cost: 0.000022\n",
            "Epoch 2000/2000 Cost: 0.000014\n"
          ],
          "name": "stdout"
        }
      ]
    },
    {
      "cell_type": "markdown",
      "metadata": {
        "id": "jzMzwgILJdJc"
      },
      "source": [
        "## 다중선형회귀 클래스로 구현하기\r\n",
        "모델을 클래스로 구현했다는 점만 달라짐"
      ]
    },
    {
      "cell_type": "code",
      "metadata": {
        "id": "gYSnCG1AJdMC"
      },
      "source": [
        "# 데이터\r\n",
        "x_train = torch.FloatTensor([[73, 80, 75],\r\n",
        "                             [93, 88, 93],\r\n",
        "                             [89, 91, 90],\r\n",
        "                             [96, 98, 100],\r\n",
        "                             [73, 66, 70]])\r\n",
        "y_train = torch.FloatTensor([[152], [185], [180], [196], [142]])"
      ],
      "execution_count": null,
      "outputs": []
    },
    {
      "cell_type": "code",
      "metadata": {
        "id": "tzyKSpYZJdOe"
      },
      "source": [
        "class MultivariateLinearRegressionModel(nn.Module):\r\n",
        "    def __init__(self):\r\n",
        "        super().__init__()\r\n",
        "        self.linear = nn.Linear(3, 1) # 다중 선형 회귀이므로 input_dim=3, output_dim=1.\r\n",
        "\r\n",
        "    def forward(self, x):\r\n",
        "        return self.linear(x)"
      ],
      "execution_count": null,
      "outputs": []
    },
    {
      "cell_type": "code",
      "metadata": {
        "id": "tbfDxbCfJdRD"
      },
      "source": [
        "model = MultivariateLinearRegressionModel()"
      ],
      "execution_count": null,
      "outputs": []
    },
    {
      "cell_type": "code",
      "metadata": {
        "id": "YPdGFOWmJdV7"
      },
      "source": [
        "optimizer = torch.optim.SGD(model.parameters(), lr=1e-5) "
      ],
      "execution_count": null,
      "outputs": []
    },
    {
      "cell_type": "code",
      "metadata": {
        "colab": {
          "base_uri": "https://localhost:8080/"
        },
        "id": "lf5C5CxOJdYm",
        "outputId": "261197c0-ddaf-4782-f5ef-c592fb1fb5c0"
      },
      "source": [
        "nb_epochs = 2000\r\n",
        "for epoch in range(nb_epochs+1):\r\n",
        "\r\n",
        "    # H(x) 계산\r\n",
        "    prediction = model(x_train)\r\n",
        "    # model(x_train)은 model.forward(x_train)와 동일함.\r\n",
        "\r\n",
        "    # cost 계산\r\n",
        "    cost = F.mse_loss(prediction, y_train) # <== 파이토치에서 제공하는 평균 제곱 오차 함수\r\n",
        "\r\n",
        "    # cost로 H(x) 개선하는 부분\r\n",
        "    # gradient를 0으로 초기화\r\n",
        "    optimizer.zero_grad()\r\n",
        "    # 비용 함수를 미분하여 gradient 계산\r\n",
        "    cost.backward()\r\n",
        "    # W와 b를 업데이트\r\n",
        "    optimizer.step()\r\n",
        "\r\n",
        "    if epoch % 100 == 0:\r\n",
        "    # 100번마다 로그 출력\r\n",
        "      print('Epoch {:4d}/{} Cost: {:.6f}'.format(\r\n",
        "          epoch, nb_epochs, cost.item()\r\n",
        "      ))"
      ],
      "execution_count": null,
      "outputs": [
        {
          "output_type": "stream",
          "text": [
            "Epoch    0/2000 Cost: 39633.414062\n",
            "Epoch  100/2000 Cost: 11.480746\n",
            "Epoch  200/2000 Cost: 10.894592\n",
            "Epoch  300/2000 Cost: 10.339335\n",
            "Epoch  400/2000 Cost: 9.813351\n",
            "Epoch  500/2000 Cost: 9.315010\n",
            "Epoch  600/2000 Cost: 8.842962\n",
            "Epoch  700/2000 Cost: 8.395753\n",
            "Epoch  800/2000 Cost: 7.972028\n",
            "Epoch  900/2000 Cost: 7.570637\n",
            "Epoch 1000/2000 Cost: 7.190376\n",
            "Epoch 1100/2000 Cost: 6.830142\n",
            "Epoch 1200/2000 Cost: 6.488811\n",
            "Epoch 1300/2000 Cost: 6.165472\n",
            "Epoch 1400/2000 Cost: 5.859105\n",
            "Epoch 1500/2000 Cost: 5.568909\n",
            "Epoch 1600/2000 Cost: 5.293931\n",
            "Epoch 1700/2000 Cost: 5.033408\n",
            "Epoch 1800/2000 Cost: 4.786575\n",
            "Epoch 1900/2000 Cost: 4.552718\n",
            "Epoch 2000/2000 Cost: 4.331151\n"
          ],
          "name": "stdout"
        }
      ]
    }
  ]
}