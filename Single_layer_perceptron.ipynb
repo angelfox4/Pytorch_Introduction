{
  "nbformat": 4,
  "nbformat_minor": 0,
  "metadata": {
    "colab": {
      "name": "Single_layer_perceptron.ipynb",
      "provenance": [],
      "authorship_tag": "ABX9TyPKEkh38I3xEl4gJlRmKfGq",
      "include_colab_link": true
    },
    "kernelspec": {
      "name": "python3",
      "display_name": "Python 3"
    },
    "accelerator": "GPU"
  },
  "cells": [
    {
      "cell_type": "markdown",
      "metadata": {
        "id": "view-in-github",
        "colab_type": "text"
      },
      "source": [
        "<a href=\"https://colab.research.google.com/github/angelfox4/Pytorch_Introduction/blob/main/Single_layer_perceptron.ipynb\" target=\"_parent\"><img src=\"https://colab.research.google.com/assets/colab-badge.svg\" alt=\"Open In Colab\"/></a>"
      ]
    },
    {
      "cell_type": "code",
      "metadata": {
        "id": "Afc7Myh1rejS"
      },
      "source": [
        "import torch\r\n",
        "import torch.nn as nn\r\n",
        "import torch.nn.functional as F\r\n",
        "device='cuda' if torch.cuda.is_available() else 'cpu'\r\n",
        "torch.manual_seed(777)\r\n",
        "if device =='cuda':\r\n",
        "  torch.cuda.manual_seed_all(777)"
      ],
      "execution_count": null,
      "outputs": []
    },
    {
      "cell_type": "markdown",
      "metadata": {
        "id": "9hJROII8r8bb"
      },
      "source": [
        "## XOR 문제(단층 퍼셉트론)\r\n",
        "비용이 일정 epoch을 지나면 더 줄어들지 않음을 확인 할 수 있음"
      ]
    },
    {
      "cell_type": "code",
      "metadata": {
        "id": "LlIN5q6YrqTk"
      },
      "source": [
        "X=torch.FloatTensor([[0,0], [0,1], [1,0], [1,1]]).to(device)\r\n",
        "Y=torch.FloatTensor([[0], [1], [1] ,[0]]).to(device)"
      ],
      "execution_count": null,
      "outputs": []
    },
    {
      "cell_type": "code",
      "metadata": {
        "id": "MBbe2_XrrqYU"
      },
      "source": [
        "linear=nn.Linear(2, 1, bias=True)\r\n",
        "sigmoid=nn.Sigmoid()\r\n",
        "model=nn.Sequential(linear, sigmoid).to(device) #WX+B와 활성화함수를 결합"
      ],
      "execution_count": null,
      "outputs": []
    },
    {
      "cell_type": "code",
      "metadata": {
        "id": "ICjPbAs3rqbC"
      },
      "source": [
        "#비용함수와 옵티마이저 정의\r\n",
        "criterion=torch.nn.BCELoss().to(device)\r\n",
        "optimizer=torch.optim.SGD(model.parameters(), lr=1)"
      ],
      "execution_count": null,
      "outputs": []
    },
    {
      "cell_type": "markdown",
      "metadata": {
        "id": "2epVnbICtc3o"
      },
      "source": [
        "**Softmax regression 구현할 때와 비교**  \r\n",
        "linear=nn.Linear(784, 10, bias=True).to(device) \r\n",
        "\r\n",
        "criterion=nn.CrossEntropyLoss().to(device) #내부적으로 소프트맥스 함수를 포함하고 있음  \r\n",
        "optimizer=torch.optim.SGD(linear.parameters(), lr=0.01)"
      ]
    },
    {
      "cell_type": "code",
      "metadata": {
        "id": "esHdtEc2rqd1"
      },
      "source": [
        "#10,001번의 에포크 수행. 0번 에포크부터 10,000번 에포크까지.\r\n",
        "for step in range(10001):\r\n",
        "  optimizer.zero_grad()\r\n",
        "  hypothesis=model(X)\r\n",
        "\r\n",
        "  #비용함수\r\n",
        "  cost=criterion(hypothesis, Y)\r\n",
        "  cost.backward()\r\n",
        "  optimizer.step()\r\n",
        "\r\n",
        "  if step % 100 == 0:\r\n",
        "    print(step, cost.item())"
      ],
      "execution_count": null,
      "outputs": []
    },
    {
      "cell_type": "code",
      "metadata": {
        "colab": {
          "base_uri": "https://localhost:8080/"
        },
        "id": "gt-hRQ43rqgV",
        "outputId": "b3f102da-4861-4b1a-b233-f9359564c35d"
      },
      "source": [
        "#예측값 확인\r\n",
        "with torch.no_grad():\r\n",
        "  hypothesis=model(X)\r\n",
        "  predicted=(hypothesis>0.5).float()\r\n",
        "  accuracy=(predicted==Y).float().mean()\r\n",
        "  print('모델의 출력값(Hypothesis):', hypothesis.detach().cpu().numpy())\r\n",
        "  print('모델의 예측값(Predicted) :', predicted.detach().cpu().numpy())\r\n",
        "  print('실제값(Y) :', Y.cpu().numpy())\r\n",
        "  print('정확도(Accuracy) :', accuracy.item())"
      ],
      "execution_count": null,
      "outputs": [
        {
          "output_type": "stream",
          "text": [
            "모델의 출력값(Hypothesis): [[0.5]\n",
            " [0.5]\n",
            " [0.5]\n",
            " [0.5]]\n",
            "모델의 예측값(Predicted) : [[0.]\n",
            " [0.]\n",
            " [0.]\n",
            " [0.]]\n",
            "실제값(Y) : [[0.]\n",
            " [1.]\n",
            " [1.]\n",
            " [0.]]\n",
            "정확도(Accuracy) : 0.5\n"
          ],
          "name": "stdout"
        }
      ]
    },
    {
      "cell_type": "markdown",
      "metadata": {
        "id": "sjDbYYJfrqim"
      },
      "source": [
        "## XOR문제(다층 퍼셉트론)\r\n",
        "입력층, 은닉층1, 은닉층2, 은닉층3, 출력층을 가지는 은닉층이 3개인 인공 신경망"
      ]
    },
    {
      "cell_type": "code",
      "metadata": {
        "id": "QtYpY5pFrqk4"
      },
      "source": [
        "model=nn.Sequential(\r\n",
        "    nn.Linear(2, 10, bias=True), #input_layer=2, hidden_layer1=10\r\n",
        "    nn.Sigmoid(),\r\n",
        "    nn.Linear(10, 10, bias=True), #hidden_layer1=10, hidden_layer2=10\r\n",
        "    nn.Sigmoid(),\r\n",
        "    nn.Linear(10, 10, bias=True), #hidden_layer2=10, hidden_layer3=10\r\n",
        "    nn.Sigmoid(),\r\n",
        "    nn.Linear(10, 1, bias=True), #hidden_layer3=10, output_layer=1\r\n",
        "    nn.Sigmoid()\r\n",
        ").to(device)"
      ],
      "execution_count": null,
      "outputs": []
    },
    {
      "cell_type": "code",
      "metadata": {
        "id": "ZhL6Gvc0rqny"
      },
      "source": [
        "criterion=torch.nn.BCELoss().to(device)\r\n",
        "optimizer=torch.optim.SGD(model.parameters(), lr=1)"
      ],
      "execution_count": null,
      "outputs": []
    },
    {
      "cell_type": "code",
      "metadata": {
        "id": "1bp4Rei3rqqT"
      },
      "source": [
        "#10,001번의 에포크 수행. 0번 에포크부터 10,000번 에포크까지.\r\n",
        "for step in range(10001):\r\n",
        "  optimizer.zero_grad()\r\n",
        "  #forward 연산\r\n",
        "  hypothesis=model(X)\r\n",
        "\r\n",
        "  #비용함수\r\n",
        "  cost=criterion(hypothesis, Y)\r\n",
        "  cost.backward()\r\n",
        "  optimizer.step()\r\n",
        "\r\n",
        "  if step % 100 == 0:\r\n",
        "    print(step, cost.item())"
      ],
      "execution_count": null,
      "outputs": []
    },
    {
      "cell_type": "code",
      "metadata": {
        "colab": {
          "base_uri": "https://localhost:8080/"
        },
        "id": "Fgku26jLrqs6",
        "outputId": "3bfa28aa-7ae8-4d40-8257-786b0e0c9fc0"
      },
      "source": [
        "#예측값 확인\r\n",
        "with torch.no_grad():\r\n",
        "  hypothesis=model(X)\r\n",
        "  predicted=(hypothesis>0.5).float()\r\n",
        "  accuracy=(predicted==Y).float().mean()\r\n",
        "  print('모델의 출력값(Hypothesis):', hypothesis.detach().cpu().numpy())\r\n",
        "  print('모델의 예측값(Predicted) :', predicted.detach().cpu().numpy())\r\n",
        "  print('실제값(Y) :', Y.cpu().numpy())\r\n",
        "  print('정확도(Accuracy) :', accuracy.item())"
      ],
      "execution_count": null,
      "outputs": [
        {
          "output_type": "stream",
          "text": [
            "모델의 출력값(Hypothesis): [[9.5431744e-05]\n",
            " [9.9987710e-01]\n",
            " [9.9988127e-01]\n",
            " [1.1804836e-04]]\n",
            "모델의 예측값(Predicted) : [[0.]\n",
            " [1.]\n",
            " [1.]\n",
            " [0.]]\n",
            "실제값(Y) : [[0.]\n",
            " [1.]\n",
            " [1.]\n",
            " [0.]]\n",
            "정확도(Accuracy) : 1.0\n"
          ],
          "name": "stdout"
        }
      ]
    }
  ]
}