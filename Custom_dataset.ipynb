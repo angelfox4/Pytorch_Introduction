{
  "nbformat": 4,
  "nbformat_minor": 0,
  "metadata": {
    "colab": {
      "name": "Custom_dataset.ipynb",
      "provenance": [],
      "collapsed_sections": [],
      "authorship_tag": "ABX9TyMLa9kOX4yyLPw7ic2IStGN",
      "include_colab_link": true
    },
    "kernelspec": {
      "name": "python3",
      "display_name": "Python 3"
    }
  },
  "cells": [
    {
      "cell_type": "markdown",
      "metadata": {
        "id": "view-in-github",
        "colab_type": "text"
      },
      "source": [
        "<a href=\"https://colab.research.google.com/github/angelfox4/Pytorch_Introduction/blob/main/Custom_dataset.ipynb\" target=\"_parent\"><img src=\"https://colab.research.google.com/assets/colab-badge.svg\" alt=\"Open In Colab\"/></a>"
      ]
    },
    {
      "cell_type": "markdown",
      "metadata": {
        "id": "1GvYOFJLQzeO"
      },
      "source": [
        "#커스텀 데이터셋\r\n",
        "torch.utils.data.Dataset은 파이토치에서 데이터셋을 제공하는 추상 클래스입니다. Dataset을 상속받아 다음 메소드들을 오버라이드 하여 커스텀 데이터셋을 만들어보겠습니다."
      ]
    },
    {
      "cell_type": "markdown",
      "metadata": {
        "id": "0O20oOFVQ_t8"
      },
      "source": [
        "class CustomDataset(torch.utils.data.Dataset):   \r\n",
        "\r\n",
        "    def __init__(self):\r\n",
        "  #데이터셋의 전처리를 해주는 부분\r\n",
        "\r\n",
        "    def __len__(self):\r\n",
        "  #데이터셋의 길이. 즉, 총 샘플의 수를 적어주는 부분\r\n",
        "\r\n",
        "    def __getitem__(self, idx): \r\n",
        "  #데이터셋에서 특정 1개의 샘플을 가져오는 함수"
      ]
    },
    {
      "cell_type": "markdown",
      "metadata": {
        "id": "jepLY2sYQ_w5"
      },
      "source": [
        "## 커스텀 데이터셋으로 선형 회귀 구현하기"
      ]
    },
    {
      "cell_type": "code",
      "metadata": {
        "id": "rcxpsHZZQ_y9"
      },
      "source": [
        "import torch\r\n",
        "import torch.nn.functional as F\r\n",
        "from torch.utils.data import Dataset\r\n",
        "from torch.utils.data import DataLoader"
      ],
      "execution_count": null,
      "outputs": []
    },
    {
      "cell_type": "code",
      "metadata": {
        "id": "DHrx3Ug9Q_0-"
      },
      "source": [
        "# Dataset 상속\r\n",
        "class CustomDataset(Dataset): \r\n",
        "  def __init__(self):\r\n",
        "    self.x_data = [[73, 80, 75],\r\n",
        "                   [93, 88, 93],\r\n",
        "                   [89, 91, 90],\r\n",
        "                   [96, 98, 100],\r\n",
        "                   [73, 66, 70]]\r\n",
        "    self.y_data = [[152], [185], [180], [196], [142]]\r\n",
        "\r\n",
        "  # 총 데이터의 개수를 리턴\r\n",
        "  def __len__(self): \r\n",
        "    return len(self.x_data)\r\n",
        "\r\n",
        "  # 인덱스를 입력받아 그에 맵핑되는 입출력 데이터를 파이토치의 Tensor 형태로 리턴\r\n",
        "  def __getitem__(self, idx): \r\n",
        "    x = torch.FloatTensor(self.x_data[idx])\r\n",
        "    y = torch.FloatTensor(self.y_data[idx])\r\n",
        "    return x, y"
      ],
      "execution_count": null,
      "outputs": []
    },
    {
      "cell_type": "code",
      "metadata": {
        "colab": {
          "base_uri": "https://localhost:8080/"
        },
        "id": "OPT9X7YdSs8I",
        "outputId": "ec666069-7724-4e3d-c2c5-2c863259a1af"
      },
      "source": [
        "len(dataset)"
      ],
      "execution_count": null,
      "outputs": [
        {
          "output_type": "execute_result",
          "data": {
            "text/plain": [
              "5"
            ]
          },
          "metadata": {
            "tags": []
          },
          "execution_count": 7
        }
      ]
    },
    {
      "cell_type": "code",
      "metadata": {
        "colab": {
          "base_uri": "https://localhost:8080/"
        },
        "id": "YWFAp-WVSwZs",
        "outputId": "a222fc08-941f-4275-d9d5-ce07afc423c3"
      },
      "source": [
        "dataset[2]"
      ],
      "execution_count": null,
      "outputs": [
        {
          "output_type": "execute_result",
          "data": {
            "text/plain": [
              "(tensor([89., 91., 90.]), tensor([180.]))"
            ]
          },
          "metadata": {
            "tags": []
          },
          "execution_count": 8
        }
      ]
    },
    {
      "cell_type": "code",
      "metadata": {
        "id": "FxvDvPOuQ_5_"
      },
      "source": [
        "dataset = CustomDataset()\r\n",
        "dataloader = DataLoader(dataset, batch_size=2, shuffle=True)"
      ],
      "execution_count": null,
      "outputs": []
    },
    {
      "cell_type": "code",
      "metadata": {
        "id": "qiturcqEQ_8i"
      },
      "source": [
        "model = torch.nn.Linear(3,1)\r\n",
        "optimizer = torch.optim.SGD(model.parameters(), lr=1e-5) "
      ],
      "execution_count": null,
      "outputs": []
    },
    {
      "cell_type": "code",
      "metadata": {
        "colab": {
          "base_uri": "https://localhost:8080/"
        },
        "id": "r01XidOKSAYu",
        "outputId": "467d5981-ab39-44e6-d57c-3f7437780646"
      },
      "source": [
        "nb_epochs = 20\r\n",
        "for epoch in range(nb_epochs + 1):\r\n",
        "  for batch_idx, samples in enumerate(dataloader):\r\n",
        "    # print(batch_idx)\r\n",
        "    # print(samples)\r\n",
        "    x_train, y_train = samples\r\n",
        "    # H(x) 계산\r\n",
        "    prediction = model(x_train)\r\n",
        "\r\n",
        "    # cost 계산\r\n",
        "    cost = F.mse_loss(prediction, y_train)\r\n",
        "\r\n",
        "    # cost로 H(x) 계산\r\n",
        "    optimizer.zero_grad()\r\n",
        "    cost.backward()\r\n",
        "    optimizer.step()\r\n",
        "\r\n",
        "    print('Epoch {:4d}/{} Batch {}/{} Cost: {:.6f}'.format(\r\n",
        "        epoch, nb_epochs, batch_idx+1, len(dataloader),\r\n",
        "        cost.item()\r\n",
        "        ))"
      ],
      "execution_count": null,
      "outputs": [
        {
          "output_type": "stream",
          "text": [
            "Epoch    0/20 Batch 1/3 Cost: 23879.925781\n",
            "Epoch    0/20 Batch 2/3 Cost: 8909.769531\n",
            "Epoch    0/20 Batch 3/3 Cost: 3529.829590\n",
            "Epoch    1/20 Batch 1/3 Cost: 763.002808\n",
            "Epoch    1/20 Batch 2/3 Cost: 112.200920\n",
            "Epoch    1/20 Batch 3/3 Cost: 116.873199\n",
            "Epoch    2/20 Batch 1/3 Cost: 26.791904\n",
            "Epoch    2/20 Batch 2/3 Cost: 17.088060\n",
            "Epoch    2/20 Batch 3/3 Cost: 2.545295\n",
            "Epoch    3/20 Batch 1/3 Cost: 0.307530\n",
            "Epoch    3/20 Batch 2/3 Cost: 9.107833\n",
            "Epoch    3/20 Batch 3/3 Cost: 25.425686\n",
            "Epoch    4/20 Batch 1/3 Cost: 3.872137\n",
            "Epoch    4/20 Batch 2/3 Cost: 11.591640\n",
            "Epoch    4/20 Batch 3/3 Cost: 11.589861\n",
            "Epoch    5/20 Batch 1/3 Cost: 13.956738\n",
            "Epoch    5/20 Batch 2/3 Cost: 4.413077\n",
            "Epoch    5/20 Batch 3/3 Cost: 5.820406\n",
            "Epoch    6/20 Batch 1/3 Cost: 18.417318\n",
            "Epoch    6/20 Batch 2/3 Cost: 8.319115\n",
            "Epoch    6/20 Batch 3/3 Cost: 3.429753\n",
            "Epoch    7/20 Batch 1/3 Cost: 15.270809\n",
            "Epoch    7/20 Batch 2/3 Cost: 4.833498\n",
            "Epoch    7/20 Batch 3/3 Cost: 5.862079\n",
            "Epoch    8/20 Batch 1/3 Cost: 0.759365\n",
            "Epoch    8/20 Batch 2/3 Cost: 15.820231\n",
            "Epoch    8/20 Batch 3/3 Cost: 9.952573\n",
            "Epoch    9/20 Batch 1/3 Cost: 8.113931\n",
            "Epoch    9/20 Batch 2/3 Cost: 13.247849\n",
            "Epoch    9/20 Batch 3/3 Cost: 7.744776\n",
            "Epoch   10/20 Batch 1/3 Cost: 14.491182\n",
            "Epoch   10/20 Batch 2/3 Cost: 4.642970\n",
            "Epoch   10/20 Batch 3/3 Cost: 5.465733\n",
            "Epoch   11/20 Batch 1/3 Cost: 6.705467\n",
            "Epoch   11/20 Batch 2/3 Cost: 11.557600\n",
            "Epoch   11/20 Batch 3/3 Cost: 6.145612\n",
            "Epoch   12/20 Batch 1/3 Cost: 12.594259\n",
            "Epoch   12/20 Batch 2/3 Cost: 5.618677\n",
            "Epoch   12/20 Batch 3/3 Cost: 6.548198\n",
            "Epoch   13/20 Batch 1/3 Cost: 6.785391\n",
            "Epoch   13/20 Batch 2/3 Cost: 4.086535\n",
            "Epoch   13/20 Batch 3/3 Cost: 28.787868\n",
            "Epoch   14/20 Batch 1/3 Cost: 8.673799\n",
            "Epoch   14/20 Batch 2/3 Cost: 14.978348\n",
            "Epoch   14/20 Batch 3/3 Cost: 4.883320\n",
            "Epoch   15/20 Batch 1/3 Cost: 14.211226\n",
            "Epoch   15/20 Batch 2/3 Cost: 4.355748\n",
            "Epoch   15/20 Batch 3/3 Cost: 6.387389\n",
            "Epoch   16/20 Batch 1/3 Cost: 14.662479\n",
            "Epoch   16/20 Batch 2/3 Cost: 6.083429\n",
            "Epoch   16/20 Batch 3/3 Cost: 1.387058\n",
            "Epoch   17/20 Batch 1/3 Cost: 17.188114\n",
            "Epoch   17/20 Batch 2/3 Cost: 7.494340\n",
            "Epoch   17/20 Batch 3/3 Cost: 4.681714\n",
            "Epoch   18/20 Batch 1/3 Cost: 14.642002\n",
            "Epoch   18/20 Batch 2/3 Cost: 5.935172\n",
            "Epoch   18/20 Batch 3/3 Cost: 4.453391\n",
            "Epoch   19/20 Batch 1/3 Cost: 14.149067\n",
            "Epoch   19/20 Batch 2/3 Cost: 5.921346\n",
            "Epoch   19/20 Batch 3/3 Cost: 1.511388\n",
            "Epoch   20/20 Batch 1/3 Cost: 1.538783\n",
            "Epoch   20/20 Batch 2/3 Cost: 21.297148\n",
            "Epoch   20/20 Batch 3/3 Cost: 7.875091\n"
          ],
          "name": "stdout"
        }
      ]
    },
    {
      "cell_type": "code",
      "metadata": {
        "colab": {
          "base_uri": "https://localhost:8080/"
        },
        "id": "bTgzKgotSAbW",
        "outputId": "849a9e89-735b-4c7a-d057-6be50039fa84"
      },
      "source": [
        "# 임의의 입력 [73, 80, 75]를 선언\r\n",
        "new_var =  torch.FloatTensor([[73, 80, 75]]) \r\n",
        "# 입력한 값 [73, 80, 75]에 대해서 예측값 y를 리턴받아서 pred_y에 저장\r\n",
        "pred_y = model(new_var) \r\n",
        "print(\"훈련 후 입력이 73, 80, 75일 때의 예측값 :\", pred_y) "
      ],
      "execution_count": null,
      "outputs": [
        {
          "output_type": "stream",
          "text": [
            "훈련 후 입력이 73, 80, 75일 때의 예측값 : tensor([[153.8322]], grad_fn=<AddmmBackward>)\n"
          ],
          "name": "stdout"
        }
      ]
    }
  ]
}