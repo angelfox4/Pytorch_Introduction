{
  "nbformat": 4,
  "nbformat_minor": 0,
  "metadata": {
    "colab": {
      "name": "Tensor_Manipulation_1.ipynb",
      "provenance": [],
      "collapsed_sections": [],
      "authorship_tag": "ABX9TyMd5BTCcj3cU53HJdZFLOzZ",
      "include_colab_link": true
    },
    "kernelspec": {
      "name": "python3",
      "display_name": "Python 3"
    }
  },
  "cells": [
    {
      "cell_type": "markdown",
      "metadata": {
        "id": "view-in-github",
        "colab_type": "text"
      },
      "source": [
        "<a href=\"https://colab.research.google.com/github/angelfox4/Pytorch_Introduction/blob/main/Tensor_Manipulation_1.ipynb\" target=\"_parent\"><img src=\"https://colab.research.google.com/assets/colab-badge.svg\" alt=\"Open In Colab\"/></a>"
      ]
    },
    {
      "cell_type": "markdown",
      "metadata": {
        "id": "M5bJqu2t8UmN"
      },
      "source": [
        "## 넘파이로 텐서 만들기(벡터와 행렬 만들기)"
      ]
    },
    {
      "cell_type": "code",
      "metadata": {
        "id": "lw2ZK3Fe7Jd-"
      },
      "source": [
        "import numpy as np"
      ],
      "execution_count": null,
      "outputs": []
    },
    {
      "cell_type": "markdown",
      "metadata": {
        "id": "_0VBYNQm7N0j"
      },
      "source": [
        "1)1D with Numpy"
      ]
    },
    {
      "cell_type": "code",
      "metadata": {
        "colab": {
          "base_uri": "https://localhost:8080/"
        },
        "id": "_rpp5xTH7OkD",
        "outputId": "320c1f29-65b5-4559-d34c-477e3d8bbf2d"
      },
      "source": [
        "t=np.array([0,1,2,3,4,5,6])\r\n",
        "print(t)\r\n"
      ],
      "execution_count": null,
      "outputs": [
        {
          "output_type": "stream",
          "text": [
            "[0 1 2 3 4 5 6]\n"
          ],
          "name": "stdout"
        }
      ]
    },
    {
      "cell_type": "code",
      "metadata": {
        "colab": {
          "base_uri": "https://localhost:8080/"
        },
        "id": "xmWed8qg7Orv",
        "outputId": "1634a68d-0383-4d46-cb5f-c9371a9e370d"
      },
      "source": [
        "print(t.ndim) #차원\r\n",
        "print(t.shape) #크기"
      ],
      "execution_count": null,
      "outputs": [
        {
          "output_type": "stream",
          "text": [
            "1\n",
            "(7,)\n"
          ],
          "name": "stdout"
        }
      ]
    },
    {
      "cell_type": "markdown",
      "metadata": {
        "id": "8VeN_OvY7Oxb"
      },
      "source": [
        "1-1)Numpy로 기초 이해하기\r\n"
      ]
    },
    {
      "cell_type": "code",
      "metadata": {
        "colab": {
          "base_uri": "https://localhost:8080/"
        },
        "id": "a7BTC8Y87O4W",
        "outputId": "a82aae44-3ac7-4d24-d304-ec7d28556230"
      },
      "source": [
        "#Indexing\r\n",
        "print(t[0])\r\n",
        "print(t[1])\r\n",
        "print(t[-1])\r\n"
      ],
      "execution_count": null,
      "outputs": [
        {
          "output_type": "stream",
          "text": [
            "0\n",
            "1\n",
            "6\n"
          ],
          "name": "stdout"
        }
      ]
    },
    {
      "cell_type": "code",
      "metadata": {
        "colab": {
          "base_uri": "https://localhost:8080/"
        },
        "id": "07bNLFys7O_K",
        "outputId": "e7580d15-6d4f-4566-b27f-36864e573296"
      },
      "source": [
        "#Slicing\r\n",
        "print(t[2:5])\r\n",
        "print(t[4:-1])\r\n",
        "print(t[:2])\r\n",
        "print(t[3:])"
      ],
      "execution_count": null,
      "outputs": [
        {
          "output_type": "stream",
          "text": [
            "[2 3 4]\n",
            "[4 5]\n",
            "[0 1]\n",
            "[3 4 5 6]\n"
          ],
          "name": "stdout"
        }
      ]
    },
    {
      "cell_type": "markdown",
      "metadata": {
        "id": "cHSvtL9X7PF-"
      },
      "source": [
        "## 2D with Numpy"
      ]
    },
    {
      "cell_type": "code",
      "metadata": {
        "colab": {
          "base_uri": "https://localhost:8080/"
        },
        "id": "z9axcp_b7PKG",
        "outputId": "2ea34485-6dac-46b4-c6f7-da1a0866b519"
      },
      "source": [
        "t=np.array([[1,2,3],[4,5,6],[7,8,9],[10,11,12]])\r\n",
        "print(t)\r\n",
        "print(t.ndim)\r\n",
        "print(t.shape)"
      ],
      "execution_count": null,
      "outputs": [
        {
          "output_type": "stream",
          "text": [
            "[[ 1  2  3]\n",
            " [ 4  5  6]\n",
            " [ 7  8  9]\n",
            " [10 11 12]]\n",
            "2\n",
            "(4, 3)\n"
          ],
          "name": "stdout"
        }
      ]
    },
    {
      "cell_type": "markdown",
      "metadata": {
        "id": "6tVobi82Bu6f"
      },
      "source": [
        "## PyTorch Tensor Allocation(파이토치 텐서 선언하기)"
      ]
    },
    {
      "cell_type": "markdown",
      "metadata": {
        "id": "GMC200ESDdUU"
      },
      "source": [
        "1)1D with PyTorch"
      ]
    },
    {
      "cell_type": "code",
      "metadata": {
        "id": "GglNpcxBBvaC"
      },
      "source": [
        "import torch"
      ],
      "execution_count": null,
      "outputs": []
    },
    {
      "cell_type": "code",
      "metadata": {
        "colab": {
          "base_uri": "https://localhost:8080/"
        },
        "id": "LJfppqCGCZJS",
        "outputId": "c8558e78-3628-44cf-bd14-505f30bd4d73"
      },
      "source": [
        "t=torch.FloatTensor([0,1,2,3,4,5,6])\r\n",
        "print(t)"
      ],
      "execution_count": null,
      "outputs": [
        {
          "output_type": "stream",
          "text": [
            "tensor([0., 1., 2., 3., 4., 5., 6.])\n"
          ],
          "name": "stdout"
        }
      ]
    },
    {
      "cell_type": "code",
      "metadata": {
        "colab": {
          "base_uri": "https://localhost:8080/"
        },
        "id": "_H0vKvPPCZRk",
        "outputId": "1a0c3b39-6124-4d35-87d0-b43f314bc7ac"
      },
      "source": [
        "print(t.dim()) #차원\r\n",
        "print(t.shape) #크기\r\n",
        "print(t.size()) #쿠가"
      ],
      "execution_count": null,
      "outputs": [
        {
          "output_type": "stream",
          "text": [
            "1\n",
            "torch.Size([7])\n",
            "torch.Size([7])\n"
          ],
          "name": "stdout"
        }
      ]
    },
    {
      "cell_type": "code",
      "metadata": {
        "colab": {
          "base_uri": "https://localhost:8080/"
        },
        "id": "z242Dld3CZYZ",
        "outputId": "c56d89bc-7963-45cc-b7d8-095404328759"
      },
      "source": [
        "#Indexing&Slicing\r\n",
        "print(t[0],t[1],t[-1])\r\n",
        "print(t[2:5],t[4:-1])\r\n",
        "print(t[:2],t[3:])"
      ],
      "execution_count": null,
      "outputs": [
        {
          "output_type": "stream",
          "text": [
            "tensor(0.) tensor(1.) tensor(6.)\n",
            "tensor([2., 3., 4.]) tensor([4., 5.])\n",
            "tensor([0., 1.]) tensor([3., 4., 5., 6.])\n"
          ],
          "name": "stdout"
        }
      ]
    },
    {
      "cell_type": "markdown",
      "metadata": {
        "id": "64Yy_HOLCZdB"
      },
      "source": [
        "2)2D with PyTorch"
      ]
    },
    {
      "cell_type": "code",
      "metadata": {
        "colab": {
          "base_uri": "https://localhost:8080/"
        },
        "id": "MpGeFGbSCZh0",
        "outputId": "9a22c4d2-259f-4c57-d2a9-f9dc2fbf18d9"
      },
      "source": [
        "t=torch.FloatTensor([[1,2,3],[4,5,6],[7,8,9],[10,11,12]])\r\n",
        "print(t)"
      ],
      "execution_count": null,
      "outputs": [
        {
          "output_type": "stream",
          "text": [
            "tensor([[ 1.,  2.,  3.],\n",
            "        [ 4.,  5.,  6.],\n",
            "        [ 7.,  8.,  9.],\n",
            "        [10., 11., 12.]])\n"
          ],
          "name": "stdout"
        }
      ]
    },
    {
      "cell_type": "code",
      "metadata": {
        "colab": {
          "base_uri": "https://localhost:8080/"
        },
        "id": "feT1N4oWCZlv",
        "outputId": "9355f07d-31ae-4b29-fd8d-7563b2c6135b"
      },
      "source": [
        "print(t.dim()) #차원\r\n",
        "print(t.size()) #크기"
      ],
      "execution_count": null,
      "outputs": [
        {
          "output_type": "stream",
          "text": [
            "2\n",
            "torch.Size([4, 3])\n"
          ],
          "name": "stdout"
        }
      ]
    },
    {
      "cell_type": "code",
      "metadata": {
        "colab": {
          "base_uri": "https://localhost:8080/"
        },
        "id": "vhf7BbKgCZqm",
        "outputId": "b5f16da2-eac2-4b7d-d16b-bdfab378ec64"
      },
      "source": [
        "print(t[:,1])\r\n",
        "print(t[:,1].size())"
      ],
      "execution_count": null,
      "outputs": [
        {
          "output_type": "stream",
          "text": [
            "tensor([ 2.,  5.,  8., 11.])\n",
            "torch.Size([4])\n"
          ],
          "name": "stdout"
        }
      ]
    },
    {
      "cell_type": "code",
      "metadata": {
        "colab": {
          "base_uri": "https://localhost:8080/"
        },
        "id": "7FfYDnpACZur",
        "outputId": "a5dcba3a-3a98-4d5a-c8da-b2dd98aa0bde"
      },
      "source": [
        "print(t[:,:-1])"
      ],
      "execution_count": null,
      "outputs": [
        {
          "output_type": "stream",
          "text": [
            "tensor([[ 1.,  2.],\n",
            "        [ 4.,  5.],\n",
            "        [ 7.,  8.],\n",
            "        [10., 11.]])\n"
          ],
          "name": "stdout"
        }
      ]
    },
    {
      "cell_type": "markdown",
      "metadata": {
        "id": "s9VS2r-UBvjr"
      },
      "source": [
        "## Broadcasting\r\n",
        "자동으로 크기를 맞춰서 연산을 수행하게 만드는 기능"
      ]
    },
    {
      "cell_type": "code",
      "metadata": {
        "colab": {
          "base_uri": "https://localhost:8080/"
        },
        "id": "QkP0os6MBvvh",
        "outputId": "8250b7e0-71dc-4ab7-9d7f-d78625797676"
      },
      "source": [
        "#덧셈 연산\r\n",
        "#vector+vector\r\n",
        "m1=torch.FloatTensor([[3,3]]) #벡터처럼 보이지만 행렬임\r\n",
        "m2=torch.FloatTensor([[2,2]])\r\n",
        "print(m1+m2)"
      ],
      "execution_count": null,
      "outputs": [
        {
          "output_type": "stream",
          "text": [
            "tensor([[5., 5.]])\n"
          ],
          "name": "stdout"
        }
      ]
    },
    {
      "cell_type": "code",
      "metadata": {
        "colab": {
          "base_uri": "https://localhost:8080/"
        },
        "id": "aJPuZXSE7PNV",
        "outputId": "f6950b10-01cf-48b4-e537-768cfd6e5bf7"
      },
      "source": [
        "#Vector+scalar\r\n",
        "m1=torch.FloatTensor([[1,2]]) #벡터처럼 보이지만 행렬임\r\n",
        "m2=torch.FloatTensor([[3]])\r\n",
        "print(m1+m2)"
      ],
      "execution_count": null,
      "outputs": [
        {
          "output_type": "stream",
          "text": [
            "tensor([[4., 5.]])\n"
          ],
          "name": "stdout"
        }
      ]
    },
    {
      "cell_type": "code",
      "metadata": {
        "colab": {
          "base_uri": "https://localhost:8080/"
        },
        "id": "NkWnV1UV7PSK",
        "outputId": "3a773f8f-c929-4a1c-a10a-3aadfc9b0969"
      },
      "source": [
        "#2*1 vector + 1*2 vector =>2*2로 만들어서 계산\r\n",
        "m1=torch.FloatTensor([[1,2]]) #벡터처럼 보이지만 행렬임\r\n",
        "m2=torch.FloatTensor([[3],[4]])\r\n",
        "print(m1+m2)"
      ],
      "execution_count": null,
      "outputs": [
        {
          "output_type": "stream",
          "text": [
            "tensor([[4., 5.],\n",
            "        [5., 6.]])\n"
          ],
          "name": "stdout"
        }
      ]
    },
    {
      "cell_type": "markdown",
      "metadata": {
        "id": "FlJZpUpbFMdg"
      },
      "source": [
        "## 자주 사용되는 기능들"
      ]
    },
    {
      "cell_type": "markdown",
      "metadata": {
        "id": "dMr_nYibGLj3"
      },
      "source": [
        "1) 행렬 곱셈과 곱셈의 차이(Matrix Multiplication Vs. Multiplication)"
      ]
    },
    {
      "cell_type": "code",
      "metadata": {
        "colab": {
          "base_uri": "https://localhost:8080/"
        },
        "id": "L260t3NPGN5C",
        "outputId": "474824c4-f69a-4516-cc5b-d1b359783ef0"
      },
      "source": [
        "m1=torch.FloatTensor([[1,2],[3,4]])\r\n",
        "m2=torch.FloatTensor([[1],[2]])\r\n",
        "print(m1*m2) #Boradcasting+element wise multiplication\r\n",
        "print(m1.mul(m2)) #Matrix multiplication"
      ],
      "execution_count": null,
      "outputs": [
        {
          "output_type": "stream",
          "text": [
            "tensor([[1., 2.],\n",
            "        [6., 8.]])\n",
            "tensor([[1., 2.],\n",
            "        [6., 8.]])\n"
          ],
          "name": "stdout"
        }
      ]
    },
    {
      "cell_type": "markdown",
      "metadata": {
        "id": "OS5tq_1LGN8C"
      },
      "source": [
        "2) 평균(Mean)"
      ]
    },
    {
      "cell_type": "code",
      "metadata": {
        "colab": {
          "base_uri": "https://localhost:8080/"
        },
        "id": "DKnRBDvmGOBO",
        "outputId": "a91b2eb4-00c5-488f-f57c-6dcb3c9c48e8"
      },
      "source": [
        "#1차원 벡터\r\n",
        "t=torch.FloatTensor([1,2])\r\n",
        "print(t.mean())"
      ],
      "execution_count": null,
      "outputs": [
        {
          "output_type": "stream",
          "text": [
            "tensor(1.5000)\n"
          ],
          "name": "stdout"
        }
      ]
    },
    {
      "cell_type": "code",
      "metadata": {
        "colab": {
          "base_uri": "https://localhost:8080/"
        },
        "id": "VpqAXWp6GOD4",
        "outputId": "5565be41-f926-49dc-9f63-ecf74ae51124"
      },
      "source": [
        "#2차원 행렬\r\n",
        "t=torch.FloatTensor([[1,2],[3,4]])\r\n",
        "print(t.mean())\r\n",
        "print(t.mean(dim=0)) #열을 기준으로<=>열의 차원을 보존하면서 평균을 구한다.\r\n",
        "print(t.mean(dim=1)) #행을 기준으로<=>행의 차원을 보존하면서 평균을 구한다.\r\n",
        "print(t.mean(dim=-1)) #행을 기준으로<=>행의 차원을 보존하면서 평균을 구한다."
      ],
      "execution_count": null,
      "outputs": [
        {
          "output_type": "stream",
          "text": [
            "tensor(2.5000)\n",
            "tensor([2., 3.])\n",
            "tensor([1.5000, 3.5000])\n",
            "tensor([1.5000, 3.5000])\n"
          ],
          "name": "stdout"
        }
      ]
    },
    {
      "cell_type": "markdown",
      "metadata": {
        "id": "DXkuElgAGOJg"
      },
      "source": [
        "3) 덧셈(Sum)"
      ]
    },
    {
      "cell_type": "code",
      "metadata": {
        "colab": {
          "base_uri": "https://localhost:8080/"
        },
        "id": "uC4ipSoDGOMP",
        "outputId": "782f8955-aeb1-481c-a45f-4840a448cfe5"
      },
      "source": [
        "t=torch.FloatTensor([[1,2],[3,4]])\r\n",
        "print(t)\r\n",
        "print(t.sum())\r\n",
        "print(t.sum(dim=0))\r\n",
        "print(t.sum(dim=1))\r\n",
        "print(t.sum(dim=-1))"
      ],
      "execution_count": null,
      "outputs": [
        {
          "output_type": "stream",
          "text": [
            "tensor([[1., 2.],\n",
            "        [3., 4.]])\n",
            "tensor(10.)\n",
            "tensor([4., 6.])\n",
            "tensor([3., 7.])\n",
            "tensor([3., 7.])\n"
          ],
          "name": "stdout"
        }
      ]
    },
    {
      "cell_type": "markdown",
      "metadata": {
        "id": "th1naxviLpEg"
      },
      "source": [
        "4)최대(Max)와 아그맥스(ArgMax)"
      ]
    },
    {
      "cell_type": "code",
      "metadata": {
        "colab": {
          "base_uri": "https://localhost:8080/"
        },
        "id": "kGFucGgkLpIm",
        "outputId": "d3ed084d-5a04-4499-9095-875d222391a1"
      },
      "source": [
        "t=torch.FloatTensor([[1,2],[3,4]])\r\n",
        "print(t)\r\n",
        "print(t.max)\r\n",
        "print(t.max(dim=0))\r\n",
        "print(t.max(dim=0)[0]) #max\r\n",
        "print(t.max(dim=0)[1]) #argmax\r\n",
        "print(t.max(dim=1))\r\n",
        "print(t.max(dim=-1))"
      ],
      "execution_count": null,
      "outputs": [
        {
          "output_type": "stream",
          "text": [
            "tensor([[1., 2.],\n",
            "        [3., 4.]])\n",
            "<built-in method max of Tensor object at 0x7f3105d88168>\n",
            "torch.return_types.max(\n",
            "values=tensor([3., 4.]),\n",
            "indices=tensor([1, 1]))\n",
            "tensor([3., 4.])\n",
            "tensor([1, 1])\n",
            "torch.return_types.max(\n",
            "values=tensor([2., 4.]),\n",
            "indices=tensor([1, 1]))\n",
            "torch.return_types.max(\n",
            "values=tensor([2., 4.]),\n",
            "indices=tensor([1, 1]))\n"
          ],
          "name": "stdout"
        }
      ]
    },
    {
      "cell_type": "code",
      "metadata": {
        "id": "sjxWk-aeGOQ3"
      },
      "source": [
        ""
      ],
      "execution_count": null,
      "outputs": []
    }
  ]
}